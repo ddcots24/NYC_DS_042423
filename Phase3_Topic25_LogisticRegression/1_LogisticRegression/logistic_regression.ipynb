{
 "cells": [
  {
   "cell_type": "markdown",
   "metadata": {
    "slideshow": {
     "slide_type": "slide"
    }
   },
   "source": [
    "<div style=\"color:white;\n",
    "           display:fill;\n",
    "           border-radius:5px;\n",
    "           background-color:#5642C5;\n",
    "           font-size:200%;\n",
    "           font-family:Arial;letter-spacing:0.5px\">\n",
    "\n",
    "<p width = 20%, style=\"padding: 10px;\n",
    "              color:white;\">\n",
    "Classification and Logistic Regression</p>\n",
    "</div>\n",
    "\n",
    "Data Science Cohort Live NYC June 2022\n",
    "<p>Phase 3: Topic 25</p>\n",
    "<br>\n",
    "<br>\n",
    "\n",
    "<div align = \"right\">\n",
    "<img src=\"images/flatiron-school-logo.png\" align = \"right\" width=\"200\"/>\n",
    "</div>"
   ]
  },
  {
   "cell_type": "code",
<<<<<<< HEAD
   "execution_count": 1,
=======
   "execution_count": 76,
>>>>>>> upstream/main
   "metadata": {
    "slideshow": {
     "slide_type": "slide"
    }
   },
   "outputs": [],
   "source": [
    "import numpy as np\n",
    "import pandas as pd\n",
    "import matplotlib.pyplot as plt\n",
    "import seaborn as sns\n",
    "\n",
    "# For our modeling steps\n",
    "from sklearn.model_selection import train_test_split\n",
    "from sklearn.linear_model import LinearRegression, LogisticRegression\n",
    "from sklearn.metrics import log_loss\n"
   ]
  },
  {
   "cell_type": "markdown",
   "metadata": {
    "slideshow": {
     "slide_type": "slide"
    }
   },
   "source": [
    "#### Supervised Learning"
   ]
  },
  {
   "cell_type": "markdown",
   "metadata": {
    "cell_style": "split",
    "slideshow": {
     "slide_type": "subslide"
    }
   },
   "source": [
    "Supervised Learning:\n",
    "\n",
    "- Training an input-output prediction machine.\n",
    "- a function:\n",
    "\n",
    "$$ f: X \\rightarrow y $$"
   ]
  },
  {
   "cell_type": "markdown",
   "metadata": {
    "cell_style": "split",
    "slideshow": {
     "slide_type": "fragment"
    }
   },
   "source": [
    "- Use training data $X_{train}$, $y_{train}$\n",
    "- certain model architecture (OLS, ridge, LASSO)\n",
    "- learn function and its parameters"
   ]
  },
  {
   "cell_type": "markdown",
   "metadata": {
    "slideshow": {
     "slide_type": "slide"
    }
   },
   "source": [
    "Two major tasks in the supervised learning framework:\n",
    "- regression\n",
    "- classification"
   ]
  },
  {
   "cell_type": "markdown",
   "metadata": {
    "cell_style": "center",
    "slideshow": {
     "slide_type": "fragment"
    }
   },
   "source": [
    "We've already seen regression:\n",
    "- features to predict a numeric target\n",
    "- target values have an order"
   ]
  },
  {
   "cell_type": "markdown",
   "metadata": {
    "cell_style": "split",
    "slideshow": {
     "slide_type": "slide"
    }
   },
   "source": [
    "When the dependent variable/target is continuous:\n",
    "    \n",
    "- A regression problem"
   ]
  },
  {
   "cell_type": "code",
   "execution_count": 7,
   "metadata": {
    "cell_style": "split",
    "slideshow": {
     "slide_type": "fragment"
    }
   },
   "outputs": [
    {
     "data": {
      "image/png": "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\n",
      "text/plain": [
       "<Figure size 360x360 with 1 Axes>"
      ]
     },
     "metadata": {
      "needs_background": "light"
     },
     "output_type": "display_data"
    }
   ],
   "source": [
    "import pandas as pd\n",
    "import seaborn as sns\n",
    "import matplotlib.pyplot as plt\n",
    "data_erupt = pd.read_csv('data/faithful.csv').drop(columns = ['Unnamed: 0'])\n",
    "sns.lmplot(x = 'eruptions', y = 'waiting', data = data_erupt)\n",
    "plt.show()"
   ]
  },
  {
   "cell_type": "markdown",
   "metadata": {
    "cell_style": "split",
    "slideshow": {
     "slide_type": "slide"
    }
   },
   "source": [
    "Even when the dependent variable/target is discrete:\n",
    "- with an understood order or if its a quantity\n",
    "\n",
    "Still a regression problem\n",
    "\n",
    "\n",
    "**Example:** number of successful mating partners an elephant has as a function of elephant age"
   ]
  },
  {
   "cell_type": "markdown",
   "metadata": {
    "cell_style": "split",
    "slideshow": {
     "slide_type": "-"
    }
   },
   "source": [
    "<center><img src = \"images/matings.png\" ></center>\n",
    "<center> Poisson regressor is appropriate for count data like this </center>"
   ]
  },
  {
   "cell_type": "markdown",
   "metadata": {
    "slideshow": {
     "slide_type": "slide"
    }
   },
   "source": [
    "#### Classification\n",
    "\n",
    "Many cases where target values represent a category or type.\n",
    "- numerical encoding of classes do not imply an order"
   ]
  },
  {
   "cell_type": "code",
<<<<<<< HEAD
   "execution_count": 2,
=======
   "execution_count": 8,
>>>>>>> upstream/main
   "metadata": {
    "cell_style": "center"
   },
   "outputs": [
    {
     "data": {
      "text/html": [
       "<div>\n",
       "<style scoped>\n",
       "    .dataframe tbody tr th:only-of-type {\n",
       "        vertical-align: middle;\n",
       "    }\n",
       "\n",
       "    .dataframe tbody tr th {\n",
       "        vertical-align: top;\n",
       "    }\n",
       "\n",
       "    .dataframe thead th {\n",
       "        text-align: right;\n",
       "    }\n",
       "</style>\n",
       "<table border=\"1\" class=\"dataframe\">\n",
       "  <thead>\n",
       "    <tr style=\"text-align: right;\">\n",
       "      <th></th>\n",
       "      <th>body_mass_g</th>\n",
       "      <th>sex</th>\n",
       "    </tr>\n",
       "  </thead>\n",
       "  <tbody>\n",
       "    <tr>\n",
       "      <th>220</th>\n",
       "      <td>4500.0</td>\n",
       "      <td>Female</td>\n",
       "    </tr>\n",
       "    <tr>\n",
       "      <th>221</th>\n",
       "      <td>5700.0</td>\n",
       "      <td>Male</td>\n",
       "    </tr>\n",
       "    <tr>\n",
       "      <th>222</th>\n",
       "      <td>4450.0</td>\n",
       "      <td>Female</td>\n",
       "    </tr>\n",
       "    <tr>\n",
       "      <th>223</th>\n",
       "      <td>5700.0</td>\n",
       "      <td>Male</td>\n",
       "    </tr>\n",
       "    <tr>\n",
       "      <th>224</th>\n",
       "      <td>5400.0</td>\n",
       "      <td>Male</td>\n",
       "    </tr>\n",
       "  </tbody>\n",
       "</table>\n",
       "</div>"
      ],
      "text/plain": [
       "     body_mass_g     sex\n",
       "220       4500.0  Female\n",
       "221       5700.0    Male\n",
       "222       4450.0  Female\n",
       "223       5700.0    Male\n",
       "224       5400.0    Male"
      ]
     },
<<<<<<< HEAD
     "execution_count": 2,
=======
     "execution_count": 8,
>>>>>>> upstream/main
     "metadata": {},
     "output_type": "execute_result"
    }
   ],
   "source": [
    "penguin_df = sns.load_dataset('penguins').dropna()\n",
    "gentoo_df = penguin_df.loc[\n",
    "    penguin_df.species == 'Gentoo',\n",
    "    ['body_mass_g', 'sex']]\n",
    "\n",
    "gentoo_df.head()"
   ]
  },
  {
   "cell_type": "markdown",
   "metadata": {
    "cell_style": "split",
    "slideshow": {
     "slide_type": "slide"
    }
   },
   "source": [
    "Label encode the sex:\n",
    "- scikit learn's label encoder\n",
    "\n",
    "Convert sex categories to numeric"
   ]
  },
  {
   "cell_type": "code",
<<<<<<< HEAD
   "execution_count": 3,
=======
   "execution_count": 9,
>>>>>>> upstream/main
   "metadata": {
    "cell_style": "split"
   },
   "outputs": [],
   "source": [
    "from sklearn.preprocessing import LabelEncoder\n",
    "\n",
    "label_enc = LabelEncoder()\n",
    "gentoo_df['sex'] = label_enc.fit_transform(\n",
    "    gentoo_df['sex'])"
   ]
  },
  {
   "cell_type": "code",
<<<<<<< HEAD
   "execution_count": 5,
=======
   "execution_count": 11,
>>>>>>> upstream/main
   "metadata": {
    "cell_style": "split",
    "slideshow": {
     "slide_type": "subslide"
    }
   },
   "outputs": [
    {
     "data": {
      "text/html": [
       "<div>\n",
       "<style scoped>\n",
       "    .dataframe tbody tr th:only-of-type {\n",
       "        vertical-align: middle;\n",
       "    }\n",
       "\n",
       "    .dataframe tbody tr th {\n",
       "        vertical-align: top;\n",
       "    }\n",
       "\n",
       "    .dataframe thead th {\n",
       "        text-align: right;\n",
       "    }\n",
       "</style>\n",
       "<table border=\"1\" class=\"dataframe\">\n",
       "  <thead>\n",
       "    <tr style=\"text-align: right;\">\n",
       "      <th></th>\n",
       "      <th>body_mass_g</th>\n",
       "      <th>sex</th>\n",
       "    </tr>\n",
       "  </thead>\n",
       "  <tbody>\n",
       "    <tr>\n",
       "      <th>220</th>\n",
       "      <td>4500.0</td>\n",
       "      <td>0</td>\n",
       "    </tr>\n",
       "    <tr>\n",
       "      <th>221</th>\n",
       "      <td>5700.0</td>\n",
       "      <td>1</td>\n",
       "    </tr>\n",
       "    <tr>\n",
       "      <th>222</th>\n",
       "      <td>4450.0</td>\n",
       "      <td>0</td>\n",
       "    </tr>\n",
       "    <tr>\n",
       "      <th>223</th>\n",
       "      <td>5700.0</td>\n",
       "      <td>1</td>\n",
       "    </tr>\n",
       "    <tr>\n",
       "      <th>224</th>\n",
       "      <td>5400.0</td>\n",
       "      <td>1</td>\n",
       "    </tr>\n",
       "  </tbody>\n",
       "</table>\n",
       "</div>"
      ],
      "text/plain": [
       "     body_mass_g  sex\n",
       "220       4500.0    0\n",
       "221       5700.0    1\n",
       "222       4450.0    0\n",
       "223       5700.0    1\n",
       "224       5400.0    1"
      ]
     },
<<<<<<< HEAD
     "execution_count": 5,
=======
     "execution_count": 11,
>>>>>>> upstream/main
     "metadata": {},
     "output_type": "execute_result"
    }
   ],
   "source": [
    "gentoo_df.head()"
   ]
  },
  {
   "cell_type": "markdown",
   "metadata": {
    "cell_style": "split",
    "slideshow": {
     "slide_type": "fragment"
    }
   },
   "source": [
    "Example of a **binary** classification problem.\n",
    "- Two outcomes/classes encoded as 0 and 1\n",
    "- Using feature(s) to predict whether class 0 or 1"
   ]
  },
  {
   "cell_type": "markdown",
   "metadata": {
    "slideshow": {
     "slide_type": "slide"
    }
   },
   "source": [
    "Looking at the gentoo body masses by sex:"
   ]
  },
  {
   "cell_type": "code",
   "execution_count": 12,
   "metadata": {
    "cell_style": "split",
    "slideshow": {
     "slide_type": "fragment"
    }
   },
   "outputs": [
    {
     "data": {
      "image/png": "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\n",
      "text/plain": [
       "<Figure size 432x288 with 1 Axes>"
      ]
     },
     "metadata": {
      "needs_background": "light"
     },
     "output_type": "display_data"
    }
   ],
   "source": [
    "sns.violinplot(y = 'body_mass_g', x = 'sex', \n",
    "               data = gentoo_df)\n",
    "plt.show()"
   ]
  },
  {
   "cell_type": "markdown",
   "metadata": {
    "cell_style": "split",
    "slideshow": {
     "slide_type": "fragment"
    }
   },
   "source": [
    "In this case: useful to view it as a scatter plot as well"
   ]
  },
  {
   "cell_type": "code",
<<<<<<< HEAD
   "execution_count": 6,
=======
   "execution_count": 13,
>>>>>>> upstream/main
   "metadata": {
    "cell_style": "split",
    "slideshow": {
     "slide_type": "-"
    }
   },
   "outputs": [
    {
     "data": {
      "image/png": "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",
      "text/plain": [
       "<Figure size 640x480 with 1 Axes>"
      ]
     },
     "metadata": {},
     "output_type": "display_data"
    }
   ],
   "source": [
    "sns.scatterplot(x = 'body_mass_g', y = 'sex', \n",
    "                data = gentoo_df)\n",
    "plt.show()"
   ]
  },
  {
   "cell_type": "code",
   "execution_count": 14,
   "metadata": {
    "cell_style": "split",
    "slideshow": {
     "slide_type": "slide"
    }
   },
   "outputs": [
    {
     "data": {
      "image/png": "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\n",
      "text/plain": [
       "<Figure size 432x288 with 1 Axes>"
      ]
     },
     "metadata": {
      "needs_background": "light"
     },
     "output_type": "display_data"
    }
   ],
   "source": [
    "sns.scatterplot(x = 'body_mass_g', y = 'sex', \n",
    "                data = gentoo_df)\n",
    "plt.show()"
   ]
  },
  {
   "cell_type": "markdown",
   "metadata": {
    "cell_style": "split",
    "slideshow": {
     "slide_type": "fragment"
    }
   },
   "source": [
    "- Can see transition from 0 to 1:\n",
    "    - occuring around body_mass = 5000 g"
   ]
  },
  {
   "cell_type": "markdown",
   "metadata": {
    "cell_style": "center",
    "slideshow": {
     "slide_type": "slide"
    }
   },
   "source": [
    "One strategy would be:\n",
    "- Linear regression \n",
    "- If predicted sex > 0.5, then Male\n",
    "- else Female"
   ]
  },
  {
   "cell_type": "code",
<<<<<<< HEAD
   "execution_count": 7,
=======
   "execution_count": 78,
>>>>>>> upstream/main
   "metadata": {
    "cell_style": "split"
   },
   "outputs": [
    {
     "data": {
      "text/html": [
       "<style>#sk-container-id-1 {color: black;background-color: white;}#sk-container-id-1 pre{padding: 0;}#sk-container-id-1 div.sk-toggleable {background-color: white;}#sk-container-id-1 label.sk-toggleable__label {cursor: pointer;display: block;width: 100%;margin-bottom: 0;padding: 0.3em;box-sizing: border-box;text-align: center;}#sk-container-id-1 label.sk-toggleable__label-arrow:before {content: \"▸\";float: left;margin-right: 0.25em;color: #696969;}#sk-container-id-1 label.sk-toggleable__label-arrow:hover:before {color: black;}#sk-container-id-1 div.sk-estimator:hover label.sk-toggleable__label-arrow:before {color: black;}#sk-container-id-1 div.sk-toggleable__content {max-height: 0;max-width: 0;overflow: hidden;text-align: left;background-color: #f0f8ff;}#sk-container-id-1 div.sk-toggleable__content pre {margin: 0.2em;color: black;border-radius: 0.25em;background-color: #f0f8ff;}#sk-container-id-1 input.sk-toggleable__control:checked~div.sk-toggleable__content {max-height: 200px;max-width: 100%;overflow: auto;}#sk-container-id-1 input.sk-toggleable__control:checked~label.sk-toggleable__label-arrow:before {content: \"▾\";}#sk-container-id-1 div.sk-estimator input.sk-toggleable__control:checked~label.sk-toggleable__label {background-color: #d4ebff;}#sk-container-id-1 div.sk-label input.sk-toggleable__control:checked~label.sk-toggleable__label {background-color: #d4ebff;}#sk-container-id-1 input.sk-hidden--visually {border: 0;clip: rect(1px 1px 1px 1px);clip: rect(1px, 1px, 1px, 1px);height: 1px;margin: -1px;overflow: hidden;padding: 0;position: absolute;width: 1px;}#sk-container-id-1 div.sk-estimator {font-family: monospace;background-color: #f0f8ff;border: 1px dotted black;border-radius: 0.25em;box-sizing: border-box;margin-bottom: 0.5em;}#sk-container-id-1 div.sk-estimator:hover {background-color: #d4ebff;}#sk-container-id-1 div.sk-parallel-item::after {content: \"\";width: 100%;border-bottom: 1px solid gray;flex-grow: 1;}#sk-container-id-1 div.sk-label:hover label.sk-toggleable__label {background-color: #d4ebff;}#sk-container-id-1 div.sk-serial::before {content: \"\";position: absolute;border-left: 1px solid gray;box-sizing: border-box;top: 0;bottom: 0;left: 50%;z-index: 0;}#sk-container-id-1 div.sk-serial {display: flex;flex-direction: column;align-items: center;background-color: white;padding-right: 0.2em;padding-left: 0.2em;position: relative;}#sk-container-id-1 div.sk-item {position: relative;z-index: 1;}#sk-container-id-1 div.sk-parallel {display: flex;align-items: stretch;justify-content: center;background-color: white;position: relative;}#sk-container-id-1 div.sk-item::before, #sk-container-id-1 div.sk-parallel-item::before {content: \"\";position: absolute;border-left: 1px solid gray;box-sizing: border-box;top: 0;bottom: 0;left: 50%;z-index: -1;}#sk-container-id-1 div.sk-parallel-item {display: flex;flex-direction: column;z-index: 1;position: relative;background-color: white;}#sk-container-id-1 div.sk-parallel-item:first-child::after {align-self: flex-end;width: 50%;}#sk-container-id-1 div.sk-parallel-item:last-child::after {align-self: flex-start;width: 50%;}#sk-container-id-1 div.sk-parallel-item:only-child::after {width: 0;}#sk-container-id-1 div.sk-dashed-wrapped {border: 1px dashed gray;margin: 0 0.4em 0.5em 0.4em;box-sizing: border-box;padding-bottom: 0.4em;background-color: white;}#sk-container-id-1 div.sk-label label {font-family: monospace;font-weight: bold;display: inline-block;line-height: 1.2em;}#sk-container-id-1 div.sk-label-container {text-align: center;}#sk-container-id-1 div.sk-container {/* jupyter's `normalize.less` sets `[hidden] { display: none; }` but bootstrap.min.css set `[hidden] { display: none !important; }` so we also need the `!important` here to be able to override the default hidden behavior on the sphinx rendered scikit-learn.org. See: https://github.com/scikit-learn/scikit-learn/issues/21755 */display: inline-block !important;position: relative;}#sk-container-id-1 div.sk-text-repr-fallback {display: none;}</style><div id=\"sk-container-id-1\" class=\"sk-top-container\"><div class=\"sk-text-repr-fallback\"><pre>LinearRegression()</pre><b>In a Jupyter environment, please rerun this cell to show the HTML representation or trust the notebook. <br />On GitHub, the HTML representation is unable to render, please try loading this page with nbviewer.org.</b></div><div class=\"sk-container\" hidden><div class=\"sk-item\"><div class=\"sk-estimator sk-toggleable\"><input class=\"sk-toggleable__control sk-hidden--visually\" id=\"sk-estimator-id-1\" type=\"checkbox\" checked><label for=\"sk-estimator-id-1\" class=\"sk-toggleable__label sk-toggleable__label-arrow\">LinearRegression</label><div class=\"sk-toggleable__content\"><pre>LinearRegression()</pre></div></div></div></div></div>"
      ],
      "text/plain": [
       "LinearRegression()"
      ]
     },
<<<<<<< HEAD
     "execution_count": 7,
=======
     "execution_count": 78,
>>>>>>> upstream/main
     "metadata": {},
     "output_type": "execute_result"
    }
   ],
   "source": [
    "from sklearn.linear_model import LinearRegression\n",
    "import numpy as np\n",
    "lr = LinearRegression()\n",
    "X = gentoo_df['body_mass_g'].values.reshape(-1,1)\n",
    "y = gentoo_df['sex']\n",
    "lr.fit(X,y)"
   ]
  },
  {
   "cell_type": "code",
<<<<<<< HEAD
   "execution_count": 8,
=======
   "execution_count": 79,
>>>>>>> upstream/main
   "metadata": {
    "cell_style": "split",
    "slideshow": {
     "slide_type": "fragment"
    }
   },
   "outputs": [],
   "source": [
    "x_plot_range = np.linspace(4000,6000,10)\n",
    "y_pred = lr.predict(x_plot_range.reshape(-1,1))\n"
   ]
  },
  {
   "cell_type": "code",
<<<<<<< HEAD
   "execution_count": 9,
=======
   "execution_count": 80,
>>>>>>> upstream/main
   "metadata": {
    "cell_style": "split"
   },
   "outputs": [],
   "source": [
    "# find x value for which value predicts y = 0.5\n",
    "y_thresh = 0.5\n",
    "x_seperator_OLS = (y_thresh - lr.intercept_)/lr.coef_[0]"
   ]
  },
  {
   "cell_type": "code",
<<<<<<< HEAD
   "execution_count": 10,
=======
   "execution_count": 18,
>>>>>>> upstream/main
   "metadata": {
    "slideshow": {
     "slide_type": "skip"
    }
   },
   "outputs": [],
   "source": [
    "%%capture OLS_seperator\n",
    "fig, ax = plt.subplots(figsize = (8,5))\n",
    "sns.scatterplot(x = 'body_mass_g', y = 'sex', \n",
    "                data = gentoo_df, ax = ax, label = 'data')\n",
    "ax.plot(x_plot_range, y_pred, c = 'r', label = 'OLS_fit')\n",
    "ax.axvline(x_seperator_OLS, c = 'g', linestyle = '--', label = 'class seperator')\n",
    "ax.legend()\n",
    "\n",
    "plt.show()"
   ]
  },
  {
   "cell_type": "code",
<<<<<<< HEAD
   "execution_count": 11,
=======
   "execution_count": 19,
>>>>>>> upstream/main
   "metadata": {
    "slideshow": {
     "slide_type": "subslide"
    }
   },
   "outputs": [
    {
     "data": {
      "image/png": "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",
      "text/plain": [
       "<Figure size 800x500 with 1 Axes>"
      ]
     },
     "metadata": {},
     "output_type": "display_data"
    }
   ],
   "source": [
    "OLS_seperator()"
   ]
  },
  {
   "cell_type": "markdown",
   "metadata": {
    "cell_style": "split",
    "slideshow": {
     "slide_type": "fragment"
    }
   },
   "source": [
    "While this looks good:\n",
    "- is actually a dumb model"
   ]
  },
  {
   "cell_type": "markdown",
   "metadata": {
    "cell_style": "split",
    "slideshow": {
     "slide_type": "fragment"
    }
   },
   "source": [
    "- 0 and 1 are not numerically related\n",
    "- hence: OLS doesnt mean anything.\n",
    "- using it as a hack way of generating class boundary:\n",
    "    - predicts values that are out of bounds of target"
   ]
  },
  {
   "cell_type": "markdown",
   "metadata": {
    "cell_style": "center",
    "slideshow": {
     "slide_type": "slide"
    }
   },
   "source": [
    "Also dumb for another less obvious reason:\n",
    "- Let's add four sample points for males at body masses greater than 5500"
   ]
  },
  {
   "cell_type": "code",
<<<<<<< HEAD
   "execution_count": 12,
=======
   "execution_count": 20,
>>>>>>> upstream/main
   "metadata": {
    "cell_style": "split",
    "slideshow": {
     "slide_type": "fragment"
    }
   },
   "outputs": [],
   "source": [
    "from scipy.stats import uniform\n",
    "\n",
    "m = 4\n",
    "X_m = uniform.rvs(5500, 2000, \n",
    "                    size = m, random_state = 42).reshape(-1,1)\n",
    "\n",
    "y_m = np.ones(m).reshape(-1,1)\n",
    "y_fm = np.zeros(m).reshape(-1,1)\n",
    "\n",
    "X_new = np.vstack((X, X_m))\n",
    "y_new = np.vstack((y.values.reshape(-1,1), y_m))"
   ]
  },
  {
   "cell_type": "code",
<<<<<<< HEAD
   "execution_count": 13,
=======
   "execution_count": 21,
>>>>>>> upstream/main
   "metadata": {
    "cell_style": "split",
    "slideshow": {
     "slide_type": "fragment"
    }
   },
   "outputs": [
    {
     "data": {
      "image/png": "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",
      "text/plain": [
       "<Figure size 800x500 with 1 Axes>"
      ]
     },
     "metadata": {},
     "output_type": "display_data"
    }
   ],
   "source": [
    "fig, ax = plt.subplots(figsize = (8,5))\n",
    "sns.scatterplot(x = 'body_mass_g', y = 'sex', \n",
    "                data = gentoo_df, ax = ax, label = 'data')\n",
    "ax.scatter(X_m, y_m, c = 'y')\n",
    "ax.legend()\n",
    "\n",
    "plt.show()"
   ]
  },
  {
   "cell_type": "code",
<<<<<<< HEAD
   "execution_count": 14,
=======
   "execution_count": 22,
>>>>>>> upstream/main
   "metadata": {
    "slideshow": {
     "slide_type": "skip"
    }
   },
   "outputs": [],
   "source": [
    "%%capture boundary_shift\n",
    "lr2 = LinearRegression()\n",
    "lr2.fit(X_new,y_new)\n",
    "y_pred2 = lr2.predict(x_plot_range.reshape(-1,1))\n",
    "x_seperator_OLS2 = (y_thresh - lr2.intercept_)/lr2.coef_[0]\n",
    "\n",
    "fig, ax = plt.subplots(figsize = (10,5))\n",
    "ax.scatter(X_new, y_new, label = 'data')\n",
    "ax.scatter(X_m, y_m, c = 'y')\n",
    "ax.plot(x_plot_range, y_pred, c = 'r', label = 'OLS_fit')\n",
    "ax.plot(x_plot_range, y_pred2, c = 'magenta', label = 'OLS_fit2')\n",
    "ax.axvline(x_seperator_OLS, c = 'g', linestyle = '--', label = 'class seperator')\n",
    "ax.axvline(x_seperator_OLS2, c = 'magenta', linestyle = '--', label = 'new class seperator')\n",
    "\n",
    "\n",
    "ax.legend()\n",
    "\n",
    "plt.show()"
   ]
  },
  {
   "cell_type": "code",
<<<<<<< HEAD
   "execution_count": 15,
=======
   "execution_count": 23,
>>>>>>> upstream/main
   "metadata": {
    "slideshow": {
     "slide_type": "skip"
    }
   },
   "outputs": [],
   "source": [
    "%%capture boundary_shift_closer\n",
    "\n",
    "lr2 = LinearRegression()\n",
    "lr2.fit(X_new,y_new)\n",
    "y_pred2 = lr2.predict(x_plot_range.reshape(-1,1))\n",
    "x_seperator_OLS2 = (y_thresh - lr2.intercept_)/lr2.coef_[0]\n",
    "\n",
    "fig, ax = plt.subplots(figsize = (10,5))\n",
    "ax.scatter(X_new, y_new, label = 'data')\n",
    "ax.plot(x_plot_range, y_pred, c = 'r', label = 'OLS_fit')\n",
    "ax.plot(x_plot_range, y_pred2, c = 'magenta', label = 'OLS_fit2')\n",
    "ax.axvline(x_seperator_OLS, c = 'g', linestyle = '--', label = 'class seperator')\n",
    "ax.axvline(x_seperator_OLS2, c = 'magenta', linestyle = '--', label = 'new class seperator')\n",
    "plt.xlim(4000,6500)\n",
    "\n",
    "ax.legend()\n",
    "\n",
    "plt.show()"
   ]
  },
  {
   "cell_type": "markdown",
   "metadata": {},
   "source": [
    "Looking at the new linear model:\n",
    "- boundary shifts due to new points"
   ]
  },
  {
   "cell_type": "code",
<<<<<<< HEAD
   "execution_count": 16,
=======
   "execution_count": 24,
>>>>>>> upstream/main
   "metadata": {
    "cell_style": "center",
    "slideshow": {
     "slide_type": "slide"
    }
   },
   "outputs": [
    {
     "data": {
      "image/png": "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",
      "text/plain": [
       "<Figure size 1000x500 with 1 Axes>"
      ]
     },
     "metadata": {},
     "output_type": "display_data"
    }
   ],
   "source": [
    "boundary_shift()"
   ]
  },
  {
   "cell_type": "markdown",
   "metadata": {
    "slideshow": {
     "slide_type": "subslide"
    }
   },
   "source": [
    "A closer look nearer the transition"
   ]
  },
  {
   "cell_type": "code",
<<<<<<< HEAD
   "execution_count": 17,
=======
   "execution_count": 25,
>>>>>>> upstream/main
   "metadata": {
    "slideshow": {
     "slide_type": "fragment"
    }
   },
   "outputs": [
    {
     "data": {
      "image/png": "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",
      "text/plain": [
       "<Figure size 1000x500 with 1 Axes>"
      ]
     },
     "metadata": {},
     "output_type": "display_data"
    }
   ],
   "source": [
    "boundary_shift_closer()"
   ]
  },
  {
   "cell_type": "markdown",
   "metadata": {
    "cell_style": "split",
    "slideshow": {
     "slide_type": "subslide"
    }
   },
   "source": [
    "Classification boundary:\n",
    "- should not be dependent on observations far from boundary\n",
    "- influenced by extreme values\n",
    "\n",
    "Want to focus on the features space in the transition "
   ]
  },
  {
   "cell_type": "markdown",
   "metadata": {
    "cell_style": "split",
    "slideshow": {
     "slide_type": "fragment"
    }
   },
   "source": [
    "Becomes very sensitive to:\n",
    "- specifics of train data\n",
    "- outliers\n",
    "\n",
    "Linear regression for classification is a very high variance model.\n",
    "\n",
    "**Gets much worse when we have more (>1) features**"
   ]
  },
  {
   "cell_type": "markdown",
   "metadata": {
    "slideshow": {
     "slide_type": "subslide"
    }
   },
   "source": [
    "Need set of new model architectures to deal with this:\n",
    "\n",
    "- Start with one of the simplest models apt for binary classification"
   ]
  },
  {
   "cell_type": "markdown",
   "metadata": {
    "slideshow": {
     "slide_type": "slide"
    }
   },
   "source": [
    "#### Logistic Regression"
   ]
  },
  {
   "cell_type": "markdown",
   "metadata": {
    "cell_style": "split",
    "slideshow": {
     "slide_type": "subslide"
    }
   },
   "source": [
    "- Don't model the target labels $y$ vs features $X$ directly\n",
    "- Model the probability $P(sex = 1| mass)$ "
   ]
  },
  {
   "cell_type": "code",
   "execution_count": 26,
   "metadata": {
    "cell_style": "split",
    "slideshow": {
     "slide_type": "fragment"
    }
   },
   "outputs": [
    {
     "data": {
      "image/png": "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\n",
      "text/plain": [
       "<Figure size 432x288 with 1 Axes>"
      ]
     },
     "metadata": {
      "needs_background": "light"
     },
     "output_type": "display_data"
    }
   ],
   "source": [
    "sns.scatterplot(x = 'body_mass_g', y = 'sex', \n",
    "                data = gentoo_df)\n",
    "plt.show()"
   ]
  },
  {
   "cell_type": "markdown",
   "metadata": {
    "cell_style": "split",
    "slideshow": {
     "slide_type": "slide"
    }
   },
   "source": [
    "Expect $P(sex = 1| mass)$  to behave smoothly here:\n",
    "- from $P(sex = 1| mass) = 0$ for the lower end of body masses\n",
    "- to $P(sex = 1| mass) = 1$ for the higher end of body masses"
   ]
  },
  {
   "cell_type": "markdown",
   "metadata": {
    "cell_style": "split",
    "slideshow": {
     "slide_type": "-"
    }
   },
   "source": [
    "Probability as a function of $X$:\n",
    "- might want it to look like this"
   ]
  },
  {
   "cell_type": "code",
   "execution_count": 28,
   "metadata": {
    "slideshow": {
     "slide_type": "skip"
    }
   },
   "outputs": [],
   "source": [
    "%%capture sigmoid_data\n",
    "def sigmoid(x, loc, scale):\n",
    "    z = scale*(x - loc)\n",
    "    a = 1/(1 + np.exp(-z))\n",
    "    \n",
    "    return a \n",
    "font = {'family': 'arial',\n",
    "        'weight': 'normal',\n",
    "        'size': 18,\n",
    "        }\n",
    "x_r = np.linspace(4000, 6200)\n",
    "\n",
    "fig, ax1 = plt.subplots(figsize = (8,5))\n",
    "ax2 = ax1.twinx()\n",
    "sns.scatterplot(x = 'body_mass_g', y = 'sex', color = 'blue',\n",
    "                data = gentoo_df, ax = ax1)\n",
    "ax2.plot(x_r, sigmoid(x_r, 5100, .0085), c = 'r')\n",
    "\n",
    "ax1.set_xlabel('Body Mass (g)')\n",
    "ax1.set_ylabel('Y', color='b', fontdict = font)\n",
    "ax2.set_ylabel(r'$P(Y=1|mass)$', color='r', fontdict = font)\n",
    "\n",
    "\n",
    "\n",
    "ax1.set_yticks([0,1])\n",
    "ax2.tick_params(axis='y', colors='red', labelsize = 15)\n",
    "ax2.spines['right'].set_color('red')\n",
    "ax2.spines['left'].set_visible(False)\n",
    "ax1.tick_params(axis='y', left = True, colors='blue', labelsize = 15)\n",
    "ax1.spines['left'].set_color('blue')\n",
    "\n",
    "plt.xlim(4000,6200)\n",
    "plt.show()"
   ]
  },
  {
   "cell_type": "code",
   "execution_count": 29,
   "metadata": {
    "cell_style": "split",
    "slideshow": {
     "slide_type": "subslide"
    }
   },
   "outputs": [
    {
     "data": {
      "image/png": "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\n",
      "text/plain": [
       "<Figure size 576x360 with 2 Axes>"
      ]
     },
     "metadata": {
      "needs_background": "light"
     },
     "output_type": "display_data"
    }
   ],
   "source": [
    "sigmoid_data()"
   ]
  },
  {
   "cell_type": "markdown",
   "metadata": {
    "cell_style": "split",
    "slideshow": {
     "slide_type": "fragment"
    }
   },
   "source": [
    "#### Decision criterion of classifier based on probability\n",
    "\n",
    "- When $P(sex = 1| mass) > 0.5 \\rightarrow$ Class 1\n",
    "- When $P(sex = 1| mass) \\leq 0.5 \\rightarrow$ Class 0"
   ]
  },
  {
   "cell_type": "markdown",
   "metadata": {
    "cell_style": "split",
    "slideshow": {
     "slide_type": "fragment"
    }
   },
   "source": [
    "This function for the probability of class 1 vs class 0:\n",
    "- known as the **sigmoid function** "
   ]
  },
  {
   "cell_type": "markdown",
   "metadata": {
    "slideshow": {
     "slide_type": "slide"
    }
   },
   "source": [
    "For a single feature $X$, the sigmoid function takes a form:\n",
    "\n",
    "$$ \\sigma(x | w_1, w_0) = \\frac{1}{1 + exp\\Big[-(w x + b)\\Big]} $$\n",
    "\n",
    "where $w$ is a weight parameter and $b$ is a bias parameter."
   ]
  },
  {
   "cell_type": "code",
   "execution_count": 30,
   "metadata": {
    "slideshow": {
     "slide_type": "subslide"
    }
   },
   "outputs": [],
   "source": [
    "# in python form\n",
    "\n",
    "def sigmoid_func(x, w, b):\n",
    "    z = w*x + b\n",
    "    a = 1/(1 + np.exp(-z))\n",
    "    \n",
    "    return a "
   ]
  },
  {
   "cell_type": "code",
   "execution_count": 31,
   "metadata": {
    "slideshow": {
     "slide_type": "subslide"
    }
   },
   "outputs": [
    {
     "data": {
      "text/plain": [
       "[<matplotlib.lines.Line2D at 0x1529bf8ee20>]"
      ]
     },
     "execution_count": 31,
     "metadata": {},
     "output_type": "execute_result"
    },
    {
     "data": {
      "image/png": "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\n",
      "text/plain": [
       "<Figure size 432x288 with 1 Axes>"
      ]
     },
     "metadata": {
      "needs_background": "light"
     },
     "output_type": "display_data"
    }
   ],
   "source": [
    "xra = np.linspace(-2,2,100)\n",
    "plt.plot(xra,sigmoid_func(xra, 5, 0))"
   ]
  },
  {
   "cell_type": "markdown",
   "metadata": {
    "cell_style": "split",
    "slideshow": {
     "slide_type": "fragment"
    }
   },
   "source": [
    "We'll see what $w$, $b$ mean in a second:\n",
    "- note inside exponential $z = w x + b $"
   ]
  },
  {
   "cell_type": "markdown",
   "metadata": {
    "cell_style": "split",
    "slideshow": {
     "slide_type": "fragment"
    }
   },
   "source": [
    "A linear function in there:\n",
    "- we'll see what this linear function defines soon."
   ]
  },
  {
   "cell_type": "markdown",
   "metadata": {
    "slideshow": {
     "slide_type": "slide"
    }
   },
   "source": [
    "Useful to scale/center a feature set $X$:"
   ]
  },
  {
   "cell_type": "code",
<<<<<<< HEAD
   "execution_count": 21,
=======
   "execution_count": 81,
>>>>>>> upstream/main
   "metadata": {
    "slideshow": {
     "slide_type": "fragment"
    }
   },
   "outputs": [],
   "source": [
    "from sklearn.preprocessing import StandardScaler\n",
    "from sklearn.model_selection import train_test_split\n",
    "\n",
    "X_train, X_test, y_train, y_test = train_test_split(X, y, test_size = 0.2)\n",
    "ss = StandardScaler()\n",
    "X_train_scaled = ss.fit_transform(X_train) # transformed X_train\n"
   ]
  },
  {
   "cell_type": "code",
   "execution_count": 33,
   "metadata": {
    "cell_style": "split",
    "slideshow": {
     "slide_type": "subslide"
    }
   },
   "outputs": [
    {
     "data": {
      "image/png": "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\n",
      "text/plain": [
       "<Figure size 432x288 with 1 Axes>"
      ]
     },
     "metadata": {
      "needs_background": "light"
     },
     "output_type": "display_data"
    }
   ],
   "source": [
    "plt.scatter(X_train_scaled, y_train)\n",
    "plt.ylabel('y (class target)', fontdict = font)\n",
    "plt.xlabel(r'$x_{scaled}$', fontdict = font)\n",
    "plt.show()"
   ]
  },
  {
   "cell_type": "markdown",
   "metadata": {
    "cell_style": "split",
    "slideshow": {
     "slide_type": "-"
    }
   },
   "source": [
    "This scaling becomes very important when:\n",
    "- dealing with multiple features \n",
    "- regularizing model \n",
    "- visualizing effect of weights $w$, $b$"
   ]
  },
  {
   "cell_type": "markdown",
   "metadata": {
    "cell_style": "split",
    "slideshow": {
     "slide_type": "slide"
    }
   },
   "source": [
    "What Logistic Regression does:\n",
    "- Gets values of $w_1$ and $w_0$ of sigmoid function:\n",
    "\n",
    "$$ \\sigma(x | w_1, w_0) = \\frac{1}{1 + exp\\Big[-(w x + b)\\Big]} $$\n",
    "\n",
    "\n",
    "- for which the observed data is the most probable."
   ]
  },
  {
   "cell_type": "markdown",
   "metadata": {
    "cell_style": "split",
    "slideshow": {
     "slide_type": "fragment"
    }
   },
   "source": [
    "*Fitting parameters:* \n",
    "- best approximating observed class obervations as function of $X$\n",
    "- best modeling the transition region (extent/location)"
   ]
  },
  {
   "cell_type": "code",
<<<<<<< HEAD
   "execution_count": 18,
=======
   "execution_count": 34,
>>>>>>> upstream/main
   "metadata": {
    "slideshow": {
     "slide_type": "skip"
    }
   },
   "outputs": [
    {
<<<<<<< HEAD
     "ename": "ModuleNotFoundError",
     "evalue": "No module named 'bokeh'",
     "output_type": "error",
     "traceback": [
      "\u001b[1;31m---------------------------------------------------------------------------\u001b[0m",
      "\u001b[1;31mModuleNotFoundError\u001b[0m                       Traceback (most recent call last)",
      "Cell \u001b[1;32mIn[18], line 1\u001b[0m\n\u001b[1;32m----> 1\u001b[0m \u001b[38;5;28;01mfrom\u001b[39;00m \u001b[38;5;21;01mbokeh\u001b[39;00m\u001b[38;5;21;01m.\u001b[39;00m\u001b[38;5;21;01mlayouts\u001b[39;00m \u001b[38;5;28;01mimport\u001b[39;00m column,row\n\u001b[0;32m      2\u001b[0m \u001b[38;5;28;01mfrom\u001b[39;00m \u001b[38;5;21;01mbokeh\u001b[39;00m\u001b[38;5;21;01m.\u001b[39;00m\u001b[38;5;21;01mmodels\u001b[39;00m \u001b[38;5;28;01mimport\u001b[39;00m ColumnDataSource, Slider, TextInput, Select\n\u001b[0;32m      3\u001b[0m \u001b[38;5;28;01mfrom\u001b[39;00m \u001b[38;5;21;01mbokeh\u001b[39;00m\u001b[38;5;21;01m.\u001b[39;00m\u001b[38;5;21;01mplotting\u001b[39;00m \u001b[38;5;28;01mimport\u001b[39;00m figure, output_file, show\n",
      "\u001b[1;31mModuleNotFoundError\u001b[0m: No module named 'bokeh'"
     ]
=======
     "data": {
      "text/html": [
       "\n",
       "    <div class=\"bk-root\">\n",
       "        <a href=\"https://bokeh.org\" target=\"_blank\" class=\"bk-logo bk-logo-small bk-logo-notebook\"></a>\n",
       "        <span id=\"1002\">Loading BokehJS ...</span>\n",
       "    </div>"
      ]
     },
     "metadata": {},
     "output_type": "display_data"
    },
    {
     "data": {
      "application/javascript": [
       "\n",
       "(function(root) {\n",
       "  function now() {\n",
       "    return new Date();\n",
       "  }\n",
       "\n",
       "  const force = true;\n",
       "\n",
       "  if (typeof root._bokeh_onload_callbacks === \"undefined\" || force === true) {\n",
       "    root._bokeh_onload_callbacks = [];\n",
       "    root._bokeh_is_loading = undefined;\n",
       "  }\n",
       "\n",
       "  const JS_MIME_TYPE = 'application/javascript';\n",
       "  const HTML_MIME_TYPE = 'text/html';\n",
       "  const EXEC_MIME_TYPE = 'application/vnd.bokehjs_exec.v0+json';\n",
       "  const CLASS_NAME = 'output_bokeh rendered_html';\n",
       "\n",
       "  /**\n",
       "   * Render data to the DOM node\n",
       "   */\n",
       "  function render(props, node) {\n",
       "    const script = document.createElement(\"script\");\n",
       "    node.appendChild(script);\n",
       "  }\n",
       "\n",
       "  /**\n",
       "   * Handle when an output is cleared or removed\n",
       "   */\n",
       "  function handleClearOutput(event, handle) {\n",
       "    const cell = handle.cell;\n",
       "\n",
       "    const id = cell.output_area._bokeh_element_id;\n",
       "    const server_id = cell.output_area._bokeh_server_id;\n",
       "    // Clean up Bokeh references\n",
       "    if (id != null && id in Bokeh.index) {\n",
       "      Bokeh.index[id].model.document.clear();\n",
       "      delete Bokeh.index[id];\n",
       "    }\n",
       "\n",
       "    if (server_id !== undefined) {\n",
       "      // Clean up Bokeh references\n",
       "      const cmd_clean = \"from bokeh.io.state import curstate; print(curstate().uuid_to_server['\" + server_id + \"'].get_sessions()[0].document.roots[0]._id)\";\n",
       "      cell.notebook.kernel.execute(cmd_clean, {\n",
       "        iopub: {\n",
       "          output: function(msg) {\n",
       "            const id = msg.content.text.trim();\n",
       "            if (id in Bokeh.index) {\n",
       "              Bokeh.index[id].model.document.clear();\n",
       "              delete Bokeh.index[id];\n",
       "            }\n",
       "          }\n",
       "        }\n",
       "      });\n",
       "      // Destroy server and session\n",
       "      const cmd_destroy = \"import bokeh.io.notebook as ion; ion.destroy_server('\" + server_id + \"')\";\n",
       "      cell.notebook.kernel.execute(cmd_destroy);\n",
       "    }\n",
       "  }\n",
       "\n",
       "  /**\n",
       "   * Handle when a new output is added\n",
       "   */\n",
       "  function handleAddOutput(event, handle) {\n",
       "    const output_area = handle.output_area;\n",
       "    const output = handle.output;\n",
       "\n",
       "    // limit handleAddOutput to display_data with EXEC_MIME_TYPE content only\n",
       "    if ((output.output_type != \"display_data\") || (!Object.prototype.hasOwnProperty.call(output.data, EXEC_MIME_TYPE))) {\n",
       "      return\n",
       "    }\n",
       "\n",
       "    const toinsert = output_area.element.find(\".\" + CLASS_NAME.split(' ')[0]);\n",
       "\n",
       "    if (output.metadata[EXEC_MIME_TYPE][\"id\"] !== undefined) {\n",
       "      toinsert[toinsert.length - 1].firstChild.textContent = output.data[JS_MIME_TYPE];\n",
       "      // store reference to embed id on output_area\n",
       "      output_area._bokeh_element_id = output.metadata[EXEC_MIME_TYPE][\"id\"];\n",
       "    }\n",
       "    if (output.metadata[EXEC_MIME_TYPE][\"server_id\"] !== undefined) {\n",
       "      const bk_div = document.createElement(\"div\");\n",
       "      bk_div.innerHTML = output.data[HTML_MIME_TYPE];\n",
       "      const script_attrs = bk_div.children[0].attributes;\n",
       "      for (let i = 0; i < script_attrs.length; i++) {\n",
       "        toinsert[toinsert.length - 1].firstChild.setAttribute(script_attrs[i].name, script_attrs[i].value);\n",
       "        toinsert[toinsert.length - 1].firstChild.textContent = bk_div.children[0].textContent\n",
       "      }\n",
       "      // store reference to server id on output_area\n",
       "      output_area._bokeh_server_id = output.metadata[EXEC_MIME_TYPE][\"server_id\"];\n",
       "    }\n",
       "  }\n",
       "\n",
       "  function register_renderer(events, OutputArea) {\n",
       "\n",
       "    function append_mime(data, metadata, element) {\n",
       "      // create a DOM node to render to\n",
       "      const toinsert = this.create_output_subarea(\n",
       "        metadata,\n",
       "        CLASS_NAME,\n",
       "        EXEC_MIME_TYPE\n",
       "      );\n",
       "      this.keyboard_manager.register_events(toinsert);\n",
       "      // Render to node\n",
       "      const props = {data: data, metadata: metadata[EXEC_MIME_TYPE]};\n",
       "      render(props, toinsert[toinsert.length - 1]);\n",
       "      element.append(toinsert);\n",
       "      return toinsert\n",
       "    }\n",
       "\n",
       "    /* Handle when an output is cleared or removed */\n",
       "    events.on('clear_output.CodeCell', handleClearOutput);\n",
       "    events.on('delete.Cell', handleClearOutput);\n",
       "\n",
       "    /* Handle when a new output is added */\n",
       "    events.on('output_added.OutputArea', handleAddOutput);\n",
       "\n",
       "    /**\n",
       "     * Register the mime type and append_mime function with output_area\n",
       "     */\n",
       "    OutputArea.prototype.register_mime_type(EXEC_MIME_TYPE, append_mime, {\n",
       "      /* Is output safe? */\n",
       "      safe: true,\n",
       "      /* Index of renderer in `output_area.display_order` */\n",
       "      index: 0\n",
       "    });\n",
       "  }\n",
       "\n",
       "  // register the mime type if in Jupyter Notebook environment and previously unregistered\n",
       "  if (root.Jupyter !== undefined) {\n",
       "    const events = require('base/js/events');\n",
       "    const OutputArea = require('notebook/js/outputarea').OutputArea;\n",
       "\n",
       "    if (OutputArea.prototype.mime_types().indexOf(EXEC_MIME_TYPE) == -1) {\n",
       "      register_renderer(events, OutputArea);\n",
       "    }\n",
       "  }\n",
       "\n",
       "  \n",
       "  if (typeof (root._bokeh_timeout) === \"undefined\" || force === true) {\n",
       "    root._bokeh_timeout = Date.now() + 5000;\n",
       "    root._bokeh_failed_load = false;\n",
       "  }\n",
       "\n",
       "  const NB_LOAD_WARNING = {'data': {'text/html':\n",
       "     \"<div style='background-color: #fdd'>\\n\"+\n",
       "     \"<p>\\n\"+\n",
       "     \"BokehJS does not appear to have successfully loaded. If loading BokehJS from CDN, this \\n\"+\n",
       "     \"may be due to a slow or bad network connection. Possible fixes:\\n\"+\n",
       "     \"</p>\\n\"+\n",
       "     \"<ul>\\n\"+\n",
       "     \"<li>re-rerun `output_notebook()` to attempt to load from CDN again, or</li>\\n\"+\n",
       "     \"<li>use INLINE resources instead, as so:</li>\\n\"+\n",
       "     \"</ul>\\n\"+\n",
       "     \"<code>\\n\"+\n",
       "     \"from bokeh.resources import INLINE\\n\"+\n",
       "     \"output_notebook(resources=INLINE)\\n\"+\n",
       "     \"</code>\\n\"+\n",
       "     \"</div>\"}};\n",
       "\n",
       "  function display_loaded() {\n",
       "    const el = document.getElementById(\"1002\");\n",
       "    if (el != null) {\n",
       "      el.textContent = \"BokehJS is loading...\";\n",
       "    }\n",
       "    if (root.Bokeh !== undefined) {\n",
       "      if (el != null) {\n",
       "        el.textContent = \"BokehJS \" + root.Bokeh.version + \" successfully loaded.\";\n",
       "      }\n",
       "    } else if (Date.now() < root._bokeh_timeout) {\n",
       "      setTimeout(display_loaded, 100)\n",
       "    }\n",
       "  }\n",
       "\n",
       "\n",
       "  function run_callbacks() {\n",
       "    try {\n",
       "      root._bokeh_onload_callbacks.forEach(function(callback) {\n",
       "        if (callback != null)\n",
       "          callback();\n",
       "      });\n",
       "    } finally {\n",
       "      delete root._bokeh_onload_callbacks\n",
       "    }\n",
       "    console.debug(\"Bokeh: all callbacks have finished\");\n",
       "  }\n",
       "\n",
       "  function load_libs(css_urls, js_urls, callback) {\n",
       "    if (css_urls == null) css_urls = [];\n",
       "    if (js_urls == null) js_urls = [];\n",
       "\n",
       "    root._bokeh_onload_callbacks.push(callback);\n",
       "    if (root._bokeh_is_loading > 0) {\n",
       "      console.debug(\"Bokeh: BokehJS is being loaded, scheduling callback at\", now());\n",
       "      return null;\n",
       "    }\n",
       "    if (js_urls == null || js_urls.length === 0) {\n",
       "      run_callbacks();\n",
       "      return null;\n",
       "    }\n",
       "    console.debug(\"Bokeh: BokehJS not loaded, scheduling load and callback at\", now());\n",
       "    root._bokeh_is_loading = css_urls.length + js_urls.length;\n",
       "\n",
       "    function on_load() {\n",
       "      root._bokeh_is_loading--;\n",
       "      if (root._bokeh_is_loading === 0) {\n",
       "        console.debug(\"Bokeh: all BokehJS libraries/stylesheets loaded\");\n",
       "        run_callbacks()\n",
       "      }\n",
       "    }\n",
       "\n",
       "    function on_error(url) {\n",
       "      console.error(\"failed to load \" + url);\n",
       "    }\n",
       "\n",
       "    for (let i = 0; i < css_urls.length; i++) {\n",
       "      const url = css_urls[i];\n",
       "      const element = document.createElement(\"link\");\n",
       "      element.onload = on_load;\n",
       "      element.onerror = on_error.bind(null, url);\n",
       "      element.rel = \"stylesheet\";\n",
       "      element.type = \"text/css\";\n",
       "      element.href = url;\n",
       "      console.debug(\"Bokeh: injecting link tag for BokehJS stylesheet: \", url);\n",
       "      document.body.appendChild(element);\n",
       "    }\n",
       "\n",
       "    for (let i = 0; i < js_urls.length; i++) {\n",
       "      const url = js_urls[i];\n",
       "      const element = document.createElement('script');\n",
       "      element.onload = on_load;\n",
       "      element.onerror = on_error.bind(null, url);\n",
       "      element.async = false;\n",
       "      element.src = url;\n",
       "      console.debug(\"Bokeh: injecting script tag for BokehJS library: \", url);\n",
       "      document.head.appendChild(element);\n",
       "    }\n",
       "  };\n",
       "\n",
       "  function inject_raw_css(css) {\n",
       "    const element = document.createElement(\"style\");\n",
       "    element.appendChild(document.createTextNode(css));\n",
       "    document.body.appendChild(element);\n",
       "  }\n",
       "\n",
       "  \n",
       "  const js_urls = [\"https://cdn.bokeh.org/bokeh/release/bokeh-2.4.1.min.js\", \"https://cdn.bokeh.org/bokeh/release/bokeh-gl-2.4.1.min.js\", \"https://cdn.bokeh.org/bokeh/release/bokeh-widgets-2.4.1.min.js\", \"https://cdn.bokeh.org/bokeh/release/bokeh-tables-2.4.1.min.js\", \"https://cdn.bokeh.org/bokeh/release/bokeh-mathjax-2.4.1.min.js\"];\n",
       "  const css_urls = [];\n",
       "  \n",
       "\n",
       "  const inline_js = [\n",
       "    function(Bokeh) {\n",
       "      Bokeh.set_log_level(\"info\");\n",
       "    },\n",
       "    function(Bokeh) {\n",
       "    \n",
       "    \n",
       "    }\n",
       "  ];\n",
       "\n",
       "  function run_inline_js() {\n",
       "    \n",
       "    if (root.Bokeh !== undefined || force === true) {\n",
       "      \n",
       "    for (let i = 0; i < inline_js.length; i++) {\n",
       "      inline_js[i].call(root, root.Bokeh);\n",
       "    }\n",
       "    if (force === true) {\n",
       "        display_loaded();\n",
       "      }} else if (Date.now() < root._bokeh_timeout) {\n",
       "      setTimeout(run_inline_js, 100);\n",
       "    } else if (!root._bokeh_failed_load) {\n",
       "      console.log(\"Bokeh: BokehJS failed to load within specified timeout.\");\n",
       "      root._bokeh_failed_load = true;\n",
       "    } else if (force !== true) {\n",
       "      const cell = $(document.getElementById(\"1002\")).parents('.cell').data().cell;\n",
       "      cell.output_area.append_execute_result(NB_LOAD_WARNING)\n",
       "    }\n",
       "\n",
       "  }\n",
       "\n",
       "  if (root._bokeh_is_loading === 0) {\n",
       "    console.debug(\"Bokeh: BokehJS loaded, going straight to plotting\");\n",
       "    run_inline_js();\n",
       "  } else {\n",
       "    load_libs(css_urls, js_urls, function() {\n",
       "      console.debug(\"Bokeh: BokehJS plotting callback run at\", now());\n",
       "      run_inline_js();\n",
       "    });\n",
       "  }\n",
       "}(window));"
      ],
      "application/vnd.bokehjs_load.v0+json": "\n(function(root) {\n  function now() {\n    return new Date();\n  }\n\n  const force = true;\n\n  if (typeof root._bokeh_onload_callbacks === \"undefined\" || force === true) {\n    root._bokeh_onload_callbacks = [];\n    root._bokeh_is_loading = undefined;\n  }\n\n  \n\n  \n  if (typeof (root._bokeh_timeout) === \"undefined\" || force === true) {\n    root._bokeh_timeout = Date.now() + 5000;\n    root._bokeh_failed_load = false;\n  }\n\n  const NB_LOAD_WARNING = {'data': {'text/html':\n     \"<div style='background-color: #fdd'>\\n\"+\n     \"<p>\\n\"+\n     \"BokehJS does not appear to have successfully loaded. If loading BokehJS from CDN, this \\n\"+\n     \"may be due to a slow or bad network connection. Possible fixes:\\n\"+\n     \"</p>\\n\"+\n     \"<ul>\\n\"+\n     \"<li>re-rerun `output_notebook()` to attempt to load from CDN again, or</li>\\n\"+\n     \"<li>use INLINE resources instead, as so:</li>\\n\"+\n     \"</ul>\\n\"+\n     \"<code>\\n\"+\n     \"from bokeh.resources import INLINE\\n\"+\n     \"output_notebook(resources=INLINE)\\n\"+\n     \"</code>\\n\"+\n     \"</div>\"}};\n\n  function display_loaded() {\n    const el = document.getElementById(\"1002\");\n    if (el != null) {\n      el.textContent = \"BokehJS is loading...\";\n    }\n    if (root.Bokeh !== undefined) {\n      if (el != null) {\n        el.textContent = \"BokehJS \" + root.Bokeh.version + \" successfully loaded.\";\n      }\n    } else if (Date.now() < root._bokeh_timeout) {\n      setTimeout(display_loaded, 100)\n    }\n  }\n\n\n  function run_callbacks() {\n    try {\n      root._bokeh_onload_callbacks.forEach(function(callback) {\n        if (callback != null)\n          callback();\n      });\n    } finally {\n      delete root._bokeh_onload_callbacks\n    }\n    console.debug(\"Bokeh: all callbacks have finished\");\n  }\n\n  function load_libs(css_urls, js_urls, callback) {\n    if (css_urls == null) css_urls = [];\n    if (js_urls == null) js_urls = [];\n\n    root._bokeh_onload_callbacks.push(callback);\n    if (root._bokeh_is_loading > 0) {\n      console.debug(\"Bokeh: BokehJS is being loaded, scheduling callback at\", now());\n      return null;\n    }\n    if (js_urls == null || js_urls.length === 0) {\n      run_callbacks();\n      return null;\n    }\n    console.debug(\"Bokeh: BokehJS not loaded, scheduling load and callback at\", now());\n    root._bokeh_is_loading = css_urls.length + js_urls.length;\n\n    function on_load() {\n      root._bokeh_is_loading--;\n      if (root._bokeh_is_loading === 0) {\n        console.debug(\"Bokeh: all BokehJS libraries/stylesheets loaded\");\n        run_callbacks()\n      }\n    }\n\n    function on_error(url) {\n      console.error(\"failed to load \" + url);\n    }\n\n    for (let i = 0; i < css_urls.length; i++) {\n      const url = css_urls[i];\n      const element = document.createElement(\"link\");\n      element.onload = on_load;\n      element.onerror = on_error.bind(null, url);\n      element.rel = \"stylesheet\";\n      element.type = \"text/css\";\n      element.href = url;\n      console.debug(\"Bokeh: injecting link tag for BokehJS stylesheet: \", url);\n      document.body.appendChild(element);\n    }\n\n    for (let i = 0; i < js_urls.length; i++) {\n      const url = js_urls[i];\n      const element = document.createElement('script');\n      element.onload = on_load;\n      element.onerror = on_error.bind(null, url);\n      element.async = false;\n      element.src = url;\n      console.debug(\"Bokeh: injecting script tag for BokehJS library: \", url);\n      document.head.appendChild(element);\n    }\n  };\n\n  function inject_raw_css(css) {\n    const element = document.createElement(\"style\");\n    element.appendChild(document.createTextNode(css));\n    document.body.appendChild(element);\n  }\n\n  \n  const js_urls = [\"https://cdn.bokeh.org/bokeh/release/bokeh-2.4.1.min.js\", \"https://cdn.bokeh.org/bokeh/release/bokeh-gl-2.4.1.min.js\", \"https://cdn.bokeh.org/bokeh/release/bokeh-widgets-2.4.1.min.js\", \"https://cdn.bokeh.org/bokeh/release/bokeh-tables-2.4.1.min.js\", \"https://cdn.bokeh.org/bokeh/release/bokeh-mathjax-2.4.1.min.js\"];\n  const css_urls = [];\n  \n\n  const inline_js = [\n    function(Bokeh) {\n      Bokeh.set_log_level(\"info\");\n    },\n    function(Bokeh) {\n    \n    \n    }\n  ];\n\n  function run_inline_js() {\n    \n    if (root.Bokeh !== undefined || force === true) {\n      \n    for (let i = 0; i < inline_js.length; i++) {\n      inline_js[i].call(root, root.Bokeh);\n    }\n    if (force === true) {\n        display_loaded();\n      }} else if (Date.now() < root._bokeh_timeout) {\n      setTimeout(run_inline_js, 100);\n    } else if (!root._bokeh_failed_load) {\n      console.log(\"Bokeh: BokehJS failed to load within specified timeout.\");\n      root._bokeh_failed_load = true;\n    } else if (force !== true) {\n      const cell = $(document.getElementById(\"1002\")).parents('.cell').data().cell;\n      cell.output_area.append_execute_result(NB_LOAD_WARNING)\n    }\n\n  }\n\n  if (root._bokeh_is_loading === 0) {\n    console.debug(\"Bokeh: BokehJS loaded, going straight to plotting\");\n    run_inline_js();\n  } else {\n    load_libs(css_urls, js_urls, function() {\n      console.debug(\"Bokeh: BokehJS plotting callback run at\", now());\n      run_inline_js();\n    });\n  }\n}(window));"
     },
     "metadata": {},
     "output_type": "display_data"
>>>>>>> upstream/main
    }
   ],
   "source": [
    "\n",
    "from bokeh.layouts import column,row\n",
    "from bokeh.models import ColumnDataSource, Slider, TextInput, Select\n",
    "from bokeh.plotting import figure, output_file, show\n",
    "from bokeh.io import show, output_notebook\n",
    "from bokeh.themes import Theme\n",
    "import yaml\n",
    "import numpy as np\n",
    "output_notebook()\n",
    "\n",
    "\n",
    "def bk_app(doc):\n",
    "    x_rang = np.linspace(-2,2, 100)\n",
    "    sigm = sigmoid_func(x_rang, w = 5, b = 0 )\n",
    "    sigm_df = pd.DataFrame({'x': x_rang, 'F': sigm})\n",
    "    \n",
    "\n",
    "    source = ColumnDataSource(sigm_df)\n",
    "\n",
    "    # Create plots and widgets\n",
    "    plot = figure()\n",
    "    plot.line('x', 'F', source = source, line_width=3, line_alpha=1, color = 'red', legend_label = 'P(Y=1|X)')\n",
    "    plot.circle(X_train_scaled.ravel(), y_train)\n",
    "    # Create Slider object\n",
    "     \n",
    "    w_val = Slider(start=-30, end=30, value=5, step=0.1, title=r'w (weight)')  \n",
    "    b_val = Slider(start=-10, end=10, value=0, step=0.1, title='b (bias)')  \n",
    "    \n",
    "\n",
    "    # Adding callback code\n",
    "    def callback(attr, old, new):\n",
    "        w1 = w_val.value\n",
    "        w0 = b_val.value\n",
    "        \n",
    "        sigm = sigmoid_func(x_rang, w1, w0)\n",
    "        sigm_df['F'] = sigm\n",
    "\n",
    "        source.data = sigm_df\n",
    "\n",
    "\n",
    "    w_val.on_change('value', callback)\n",
    "    b_val.on_change('value', callback)\n",
    "\n",
    "    doc.add_root(column(\n",
    "        row(w_val, b_val),\n",
    "        plot\n",
    "        \n",
    "    ))\n",
    "\n",
    "\n",
    "\n",
    "    doc.theme = Theme(json=yaml.load(\"\"\"\n",
    "        attrs:\n",
    "            Figure:\n",
    "                background_fill_color: white\n",
    "                outline_line_color: white\n",
    "                toolbar_location: above\n",
    "                height: 450\n",
    "                width: 600\n",
    "    \"\"\", Loader=yaml.FullLoader))\n",
    "\n"
   ]
  },
  {
   "cell_type": "code",
   "execution_count": 35,
   "metadata": {
    "cell_style": "center",
    "scrolled": false,
    "slideshow": {
     "slide_type": "slide"
    }
   },
   "outputs": [
    {
     "data": {
      "application/vnd.bokehjs_exec.v0+json": "",
      "text/html": [
       "\n",
       "<script id=\"1003\">\n",
       "  (function() {\n",
       "    const xhr = new XMLHttpRequest()\n",
       "    xhr.responseType = 'blob';\n",
       "    xhr.open('GET', \"http://localhost:52119/autoload.js?bokeh-autoload-element=1003&bokeh-absolute-url=http://localhost:52119&resources=none\", true);\n",
       "    \n",
       "    xhr.onload = function (event) {\n",
       "      const script = document.createElement('script');\n",
       "      const src = URL.createObjectURL(event.target.response);\n",
       "      script.src = src;\n",
       "      document.body.appendChild(script);\n",
       "    };\n",
       "    xhr.send();\n",
       "  })();\n",
       "</script>"
      ]
     },
     "metadata": {
      "application/vnd.bokehjs_exec.v0+json": {
       "server_id": "a3943c98078c4343a0f612da3a91bf71"
      }
     },
     "output_type": "display_data"
    }
   ],
   "source": [
    "show(bk_app, notebook_url=\"http://localhost:8889\")"
   ]
  },
  {
   "cell_type": "markdown",
   "metadata": {
    "cell_style": "split",
    "slideshow": {
     "slide_type": "fragment"
    }
   },
   "source": [
    "- $w$ controls:\n",
    "    - transition width\n",
    "    - orientation of classification boundary"
   ]
  },
  {
   "cell_type": "markdown",
   "metadata": {
    "cell_style": "split",
    "slideshow": {
     "slide_type": "fragment"
    }
   },
   "source": [
    "- $b$ controls:\n",
    "    - location of decision boundary"
   ]
  },
  {
   "cell_type": "markdown",
   "metadata": {
    "slideshow": {
     "slide_type": "slide"
    }
   },
   "source": [
    "The weight $w$, bias $b$, and decision boundary are tuned by:\n",
    "- maximizing the probability of the data\n",
    "- same as minimizing a new type of cost function: the binary cross entropy"
   ]
  },
  {
   "cell_type": "markdown",
   "metadata": {
    "slideshow": {
     "slide_type": "fragment"
    }
   },
   "source": [
    "**Don't stress about this: we'll see this next lecture.**"
   ]
  },
  {
   "cell_type": "markdown",
   "metadata": {
    "slideshow": {
     "slide_type": "subslide"
    }
   },
   "source": [
    "For now:\n",
    "- use sklearn's LogisticRegression()\n",
    "- see what we get"
   ]
  },
  {
   "cell_type": "code",
<<<<<<< HEAD
   "execution_count": 19,
=======
   "execution_count": 82,
>>>>>>> upstream/main
   "metadata": {
    "slideshow": {
     "slide_type": "fragment"
    }
   },
   "outputs": [],
   "source": [
    "from sklearn.linear_model import LogisticRegression\n",
    "\n",
    "logreg_clf = LogisticRegression()"
   ]
  },
  {
   "cell_type": "markdown",
   "metadata": {
    "slideshow": {
     "slide_type": "fragment"
    }
   },
   "source": [
    "Fit the model to the standardized training data."
   ]
  },
  {
   "cell_type": "code",
<<<<<<< HEAD
   "execution_count": 22,
=======
   "execution_count": 83,
>>>>>>> upstream/main
   "metadata": {
    "slideshow": {
     "slide_type": "fragment"
    }
   },
   "outputs": [
    {
     "data": {
      "text/html": [
       "<style>#sk-container-id-2 {color: black;background-color: white;}#sk-container-id-2 pre{padding: 0;}#sk-container-id-2 div.sk-toggleable {background-color: white;}#sk-container-id-2 label.sk-toggleable__label {cursor: pointer;display: block;width: 100%;margin-bottom: 0;padding: 0.3em;box-sizing: border-box;text-align: center;}#sk-container-id-2 label.sk-toggleable__label-arrow:before {content: \"▸\";float: left;margin-right: 0.25em;color: #696969;}#sk-container-id-2 label.sk-toggleable__label-arrow:hover:before {color: black;}#sk-container-id-2 div.sk-estimator:hover label.sk-toggleable__label-arrow:before {color: black;}#sk-container-id-2 div.sk-toggleable__content {max-height: 0;max-width: 0;overflow: hidden;text-align: left;background-color: #f0f8ff;}#sk-container-id-2 div.sk-toggleable__content pre {margin: 0.2em;color: black;border-radius: 0.25em;background-color: #f0f8ff;}#sk-container-id-2 input.sk-toggleable__control:checked~div.sk-toggleable__content {max-height: 200px;max-width: 100%;overflow: auto;}#sk-container-id-2 input.sk-toggleable__control:checked~label.sk-toggleable__label-arrow:before {content: \"▾\";}#sk-container-id-2 div.sk-estimator input.sk-toggleable__control:checked~label.sk-toggleable__label {background-color: #d4ebff;}#sk-container-id-2 div.sk-label input.sk-toggleable__control:checked~label.sk-toggleable__label {background-color: #d4ebff;}#sk-container-id-2 input.sk-hidden--visually {border: 0;clip: rect(1px 1px 1px 1px);clip: rect(1px, 1px, 1px, 1px);height: 1px;margin: -1px;overflow: hidden;padding: 0;position: absolute;width: 1px;}#sk-container-id-2 div.sk-estimator {font-family: monospace;background-color: #f0f8ff;border: 1px dotted black;border-radius: 0.25em;box-sizing: border-box;margin-bottom: 0.5em;}#sk-container-id-2 div.sk-estimator:hover {background-color: #d4ebff;}#sk-container-id-2 div.sk-parallel-item::after {content: \"\";width: 100%;border-bottom: 1px solid gray;flex-grow: 1;}#sk-container-id-2 div.sk-label:hover label.sk-toggleable__label {background-color: #d4ebff;}#sk-container-id-2 div.sk-serial::before {content: \"\";position: absolute;border-left: 1px solid gray;box-sizing: border-box;top: 0;bottom: 0;left: 50%;z-index: 0;}#sk-container-id-2 div.sk-serial {display: flex;flex-direction: column;align-items: center;background-color: white;padding-right: 0.2em;padding-left: 0.2em;position: relative;}#sk-container-id-2 div.sk-item {position: relative;z-index: 1;}#sk-container-id-2 div.sk-parallel {display: flex;align-items: stretch;justify-content: center;background-color: white;position: relative;}#sk-container-id-2 div.sk-item::before, #sk-container-id-2 div.sk-parallel-item::before {content: \"\";position: absolute;border-left: 1px solid gray;box-sizing: border-box;top: 0;bottom: 0;left: 50%;z-index: -1;}#sk-container-id-2 div.sk-parallel-item {display: flex;flex-direction: column;z-index: 1;position: relative;background-color: white;}#sk-container-id-2 div.sk-parallel-item:first-child::after {align-self: flex-end;width: 50%;}#sk-container-id-2 div.sk-parallel-item:last-child::after {align-self: flex-start;width: 50%;}#sk-container-id-2 div.sk-parallel-item:only-child::after {width: 0;}#sk-container-id-2 div.sk-dashed-wrapped {border: 1px dashed gray;margin: 0 0.4em 0.5em 0.4em;box-sizing: border-box;padding-bottom: 0.4em;background-color: white;}#sk-container-id-2 div.sk-label label {font-family: monospace;font-weight: bold;display: inline-block;line-height: 1.2em;}#sk-container-id-2 div.sk-label-container {text-align: center;}#sk-container-id-2 div.sk-container {/* jupyter's `normalize.less` sets `[hidden] { display: none; }` but bootstrap.min.css set `[hidden] { display: none !important; }` so we also need the `!important` here to be able to override the default hidden behavior on the sphinx rendered scikit-learn.org. See: https://github.com/scikit-learn/scikit-learn/issues/21755 */display: inline-block !important;position: relative;}#sk-container-id-2 div.sk-text-repr-fallback {display: none;}</style><div id=\"sk-container-id-2\" class=\"sk-top-container\"><div class=\"sk-text-repr-fallback\"><pre>LogisticRegression()</pre><b>In a Jupyter environment, please rerun this cell to show the HTML representation or trust the notebook. <br />On GitHub, the HTML representation is unable to render, please try loading this page with nbviewer.org.</b></div><div class=\"sk-container\" hidden><div class=\"sk-item\"><div class=\"sk-estimator sk-toggleable\"><input class=\"sk-toggleable__control sk-hidden--visually\" id=\"sk-estimator-id-2\" type=\"checkbox\" checked><label for=\"sk-estimator-id-2\" class=\"sk-toggleable__label sk-toggleable__label-arrow\">LogisticRegression</label><div class=\"sk-toggleable__content\"><pre>LogisticRegression()</pre></div></div></div></div></div>"
      ],
      "text/plain": [
       "LogisticRegression()"
      ]
     },
<<<<<<< HEAD
     "execution_count": 22,
=======
     "execution_count": 83,
>>>>>>> upstream/main
     "metadata": {},
     "output_type": "execute_result"
    }
   ],
   "source": [
    "logreg_clf.fit(X_train_scaled, y_train)"
   ]
  },
  {
   "cell_type": "markdown",
   "metadata": {
    "slideshow": {
     "slide_type": "slide"
    }
   },
   "source": [
    "We have now fit the weight $w$ (coefficients) and $b$ (bias):"
   ]
  },
  {
   "cell_type": "code",
<<<<<<< HEAD
   "execution_count": 23,
=======
   "execution_count": 38,
>>>>>>> upstream/main
   "metadata": {
    "cell_style": "split",
    "slideshow": {
     "slide_type": "fragment"
    }
   },
   "outputs": [
    {
     "data": {
      "text/plain": [
<<<<<<< HEAD
       "array([[2.99943118]])"
      ]
     },
     "execution_count": 23,
=======
       "array([[3.14379466]])"
      ]
     },
     "execution_count": 38,
>>>>>>> upstream/main
     "metadata": {},
     "output_type": "execute_result"
    }
   ],
   "source": [
    "logreg_clf.coef_"
   ]
  },
  {
   "cell_type": "code",
<<<<<<< HEAD
   "execution_count": 24,
=======
   "execution_count": 39,
>>>>>>> upstream/main
   "metadata": {
    "cell_style": "split",
    "slideshow": {
     "slide_type": "fragment"
    }
   },
   "outputs": [
    {
     "data": {
      "text/plain": [
<<<<<<< HEAD
       "array([0.42755088])"
      ]
     },
     "execution_count": 24,
=======
       "array([0.16221759])"
      ]
     },
     "execution_count": 39,
>>>>>>> upstream/main
     "metadata": {},
     "output_type": "execute_result"
    }
   ],
   "source": [
    "logreg_clf.intercept_"
   ]
  },
  {
   "cell_type": "markdown",
   "metadata": {
    "cell_style": "split",
    "slideshow": {
     "slide_type": "slide"
    }
   },
   "source": [
    "Logistic regression has a new method:\n",
    "- .predict_proba(X)\n",
    "\n",
    "Predicts probability for class 0 and class 1: column of probabilities for each class\n"
   ]
  },
  {
   "cell_type": "markdown",
   "metadata": {
    "cell_style": "split",
    "slideshow": {
     "slide_type": "fragment"
    }
   },
   "source": [
    "Can use this to visualize our model's estimation of $P(Y = 1|X)$"
   ]
  },
  {
   "cell_type": "code",
<<<<<<< HEAD
   "execution_count": 25,
=======
   "execution_count": 85,
>>>>>>> upstream/main
   "metadata": {
    "cell_style": "split"
   },
   "outputs": [
    {
     "data": {
      "text/plain": [
<<<<<<< HEAD
       "array([[9.99151361e-01, 8.48639497e-04],\n",
       "       [9.99012692e-01, 9.87308055e-04],\n",
       "       [9.98851391e-01, 1.14860915e-03],\n",
       "       [9.98663772e-01, 1.33622750e-03],\n",
       "       [9.98445556e-01, 1.55444448e-03]])"
      ]
     },
     "execution_count": 25,
=======
       "array([[9.99246513e-01, 7.53487338e-04],\n",
       "       [9.99121731e-01, 8.78268744e-04],\n",
       "       [9.98976307e-01, 1.02369343e-03],\n",
       "       [9.98806831e-01, 1.19316893e-03],\n",
       "       [9.98609337e-01, 1.39066255e-03]])"
      ]
     },
     "execution_count": 85,
>>>>>>> upstream/main
     "metadata": {},
     "output_type": "execute_result"
    }
   ],
   "source": [
    "# create a range of scaled X-values\n",
    "x_scale_range = \\\n",
    "np.linspace(-2.5,2.5, 100).reshape(-1,1)\n",
    "\n",
    "# probability of data point belonging \n",
    "# to each class as a function of x\n",
    "class_probabilities = \\\n",
    "logreg_clf.predict_proba(x_scale_range)\n",
    "\n",
    "# output first 5 elements\n",
    "class_probabilities[0:5]"
   ]
  },
  {
   "cell_type": "markdown",
   "metadata": {
    "slideshow": {
     "slide_type": "slide"
    }
   },
   "source": [
    "Unpack probabilities for females (0) and males (1):"
   ]
  },
  {
   "cell_type": "code",
<<<<<<< HEAD
   "execution_count": 26,
=======
   "execution_count": 41,
>>>>>>> upstream/main
   "metadata": {
    "cell_style": "center",
    "slideshow": {
     "slide_type": "fragment"
    }
   },
   "outputs": [],
   "source": [
    "class_proba_0 = class_probabilities[:,0]\n",
    "class_proba_1 = class_probabilities[:,1]"
   ]
  },
  {
   "cell_type": "markdown",
   "metadata": {
    "cell_style": "split",
    "slideshow": {
     "slide_type": "fragment"
    }
   },
   "source": [
    "Visualize the probability of an observation at $X$:\n",
    "- belonging to class 0\n",
    "- belonging to class 1"
   ]
  },
  {
   "cell_type": "code",
<<<<<<< HEAD
   "execution_count": 27,
=======
   "execution_count": 42,
>>>>>>> upstream/main
   "metadata": {
    "cell_style": "split",
    "slideshow": {
     "slide_type": "fragment"
    }
   },
   "outputs": [
    {
     "data": {
<<<<<<< HEAD
      "image/png": "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",
=======
      "image/png": "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\n",
>>>>>>> upstream/main
      "text/plain": [
       "<Figure size 640x480 with 1 Axes>"
      ]
     },
     "metadata": {},
     "output_type": "display_data"
    }
   ],
   "source": [
    "fig, ax = plt.subplots()\n",
    "ax.plot(x_scale_range, class_proba_0, c ='g', label = r'$P(Y=0|X)$')\n",
    "ax.plot(x_scale_range, class_proba_1, c = 'r', label = r'$P(Y=1|X)$')\n",
    "ax.scatter(X_train_scaled, y_train )\n",
    "ax.set_title('Fitted Logistic Regression probabilities')\n",
    "ax.set_ylabel('Probability')\n",
    "ax.set_xlabel(r'$x_{scaled}$')\n",
    "ax.legend()\n",
    "plt.show()"
   ]
  },
  {
   "cell_type": "markdown",
   "metadata": {
    "slideshow": {
     "slide_type": "slide"
    }
   },
   "source": [
    "#### The decision boundary\n",
    "- Role of the linear function $ z = wx+b$?"
   ]
  },
  {
   "cell_type": "markdown",
   "metadata": {
    "cell_style": "center",
    "slideshow": {
     "slide_type": "fragment"
    }
   },
   "source": [
    "where \n",
    "$$\\sigma(w x + b) = \\frac{1}{1+\\exp{\\Big[-(w x + b)\\Big]}} $$ now expressed as $$\\sigma(z) = \\frac{1}{1+\\exp{[-z]}} $$"
   ]
  },
  {
   "cell_type": "markdown",
   "metadata": {
    "cell_style": "split",
    "slideshow": {
     "slide_type": "slide"
    }
   },
   "source": [
    "When $z$ = 0:\n",
    "- Evaluating sigmoid function (i.e. $P(Y = 1 | X)$ )"
   ]
  },
  {
   "cell_type": "code",
   "execution_count": 86,
   "metadata": {
    "cell_style": "split",
    "slideshow": {
     "slide_type": "subslide"
    }
   },
   "outputs": [],
   "source": [
    "sigz = lambda z: 1/(1 + np.exp(-z))"
   ]
  },
  {
   "cell_type": "code",
   "execution_count": 87,
   "metadata": {
    "cell_style": "split",
    "slideshow": {
     "slide_type": "-"
    }
   },
   "outputs": [
    {
     "data": {
      "text/plain": [
       "0.5"
      ]
     },
     "execution_count": 87,
     "metadata": {},
     "output_type": "execute_result"
    }
   ],
   "source": [
    "sigz(0)"
   ]
  },
  {
   "cell_type": "markdown",
   "metadata": {
    "cell_style": "split",
    "slideshow": {
     "slide_type": "slide"
    }
   },
   "source": [
    "So what is the role of the linear function \n",
    "\n",
    "$$ z = w x + b $$\n",
    "\n",
    "in all of this?"
   ]
  },
  {
   "cell_type": "markdown",
   "metadata": {
    "cell_style": "split",
    "slideshow": {
     "slide_type": "fragment"
    }
   },
   "source": [
    "$P(Y = 1 | X)$ = 0.5 at $z = 0$ \n",
    "\n",
    "- Determine class 1 when $z > 0$\n",
    "- Determine class 0 when $z < 0$\n",
    "\n",
    "$$ z = w x + b = 0$$ defines a **decision boundary**"
   ]
  },
  {
   "cell_type": "markdown",
   "metadata": {
    "cell_style": "split",
    "slideshow": {
     "slide_type": "fragment"
    }
   },
   "source": [
    "Plotting the decision boundary logistic regression found:\n",
    "\n",
    "$$ 0 = wx +b $$"
   ]
  },
  {
   "cell_type": "code",
   "execution_count": 45,
   "metadata": {
    "cell_style": "split",
    "slideshow": {
     "slide_type": "-"
    }
   },
   "outputs": [
    {
     "data": {
      "text/plain": [
       "array([[-0.05159929]])"
      ]
     },
     "execution_count": 45,
     "metadata": {},
     "output_type": "execute_result"
    }
   ],
   "source": [
    "x_decision  = \\\n",
    "-logreg_clf.intercept_/logreg_clf.coef_\n",
    "\n",
    "x_decision"
   ]
  },
  {
   "cell_type": "code",
   "execution_count": 46,
   "metadata": {
    "scrolled": true,
    "slideshow": {
     "slide_type": "slide"
    }
   },
   "outputs": [
    {
     "data": {
      "image/png": "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\n",
      "text/plain": [
       "<Figure size 432x288 with 1 Axes>"
      ]
     },
     "metadata": {
      "needs_background": "light"
     },
     "output_type": "display_data"
    }
   ],
   "source": [
    "fig, ax = plt.subplots()\n",
    "ax.plot(x_scale_range, class_proba_0, c ='g', label = r'$P(Y=0|X)$')\n",
    "ax.plot(x_scale_range, class_proba_1, c = 'r', label = r'$P(Y=1|X)$')\n",
    "ax.scatter(X_train_scaled, y_train )\n",
    "ax.axvline(x_decision, c = 'black', linewidth = 3, linestyle = '--', label = 'decision boundary')\n",
    "ax.axvspan(-2.5, x_decision[0][0], color ='g', alpha = 0.3)\n",
    "ax.axvspan(x_decision[0][0], 2.5, color ='r', alpha = 0.3)\n",
    "\n",
    "ax.set_title('Fitted Logistic Regression probabilities')\n",
    "ax.set_ylabel('Probability')\n",
    "ax.set_xlabel(r'$x_{scaled}$')\n",
    "ax.legend()\n",
    "plt.show()"
   ]
  },
  {
   "cell_type": "markdown",
   "metadata": {
    "cell_style": "split",
    "slideshow": {
     "slide_type": "slide"
    }
   },
   "source": [
    "Admittedly, the visualization on scaled x-axis is a little dumb:\n",
    "- fitted standard scaler has .inverse_transform() method\n",
    "- use this on the array of x values"
   ]
  },
  {
   "cell_type": "code",
   "execution_count": 47,
   "metadata": {
    "cell_style": "split",
    "slideshow": {
     "slide_type": "fragment"
    }
   },
   "outputs": [],
   "source": [
    "x_true_range = ss.inverse_transform(x_scale_range)"
   ]
  },
  {
   "cell_type": "markdown",
   "metadata": {
    "slideshow": {
     "slide_type": "slide"
    }
   },
   "source": [
    "Repeat plot but with true range:"
   ]
  },
  {
   "cell_type": "code",
   "execution_count": 48,
   "metadata": {
    "slideshow": {
     "slide_type": "fragment"
    }
   },
   "outputs": [
    {
     "data": {
      "image/png": "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\n",
      "text/plain": [
       "<Figure size 432x288 with 1 Axes>"
      ]
     },
     "metadata": {
      "needs_background": "light"
     },
     "output_type": "display_data"
    }
   ],
   "source": [
    "fig, ax = plt.subplots()\n",
    "ax.plot(x_true_range, class_proba_0, c ='g', label = r'$P(Y=0|X)$')\n",
    "ax.plot(x_true_range, class_proba_1, c = 'r', label = r'$P(Y=1|X)$')\n",
    "ax.scatter(X_train, y_train )\n",
    "\n",
    "# true value of the decision boundary\n",
    "x_true_decision = ss.inverse_transform(x_decision)\n",
    "\n",
    "ax.axvline(x_true_decision, c = 'black', linewidth = 3, linestyle = '--', label = 'decision boundary')\n",
    "ax.axvspan(3750, x_true_decision[0][0], color ='g', alpha = 0.3)\n",
    "ax.axvspan(x_true_decision[0][0], 6500, color ='r', alpha = 0.3)\n",
    "\n",
    "ax.set_title('Fitted Logistic Regression probabilities')\n",
    "ax.set_ylabel('Probability')\n",
    "ax.set_xlabel('Gentoo body mass (g)')\n",
    "ax.legend()\n",
    "plt.show()"
   ]
  },
  {
   "cell_type": "markdown",
   "metadata": {
    "slideshow": {
     "slide_type": "slide"
    }
   },
   "source": [
    "Logistic regression is a *soft* classifier:\n",
    "- assigns probabilities/certainties to class assignment"
   ]
  },
  {
   "cell_type": "markdown",
   "metadata": {
    "slideshow": {
     "slide_type": "fragment"
    }
   },
   "source": [
    "Visualizing the probability/confidence levels of:\n",
    "- assigning male $Y=1$ \n",
    "- given $X$ (gentoo body mass)"
   ]
  },
  {
   "cell_type": "code",
   "execution_count": 49,
   "metadata": {
    "cell_style": "split",
    "scrolled": true,
    "slideshow": {
     "slide_type": "subslide"
    }
   },
   "outputs": [
    {
     "data": {
      "image/png": "iVBORw0KGgoAAAANSUhEUgAAAW4AAAEWCAYAAABG030jAAAAOXRFWHRTb2Z0d2FyZQBNYXRwbG90bGliIHZlcnNpb24zLjQuMywgaHR0cHM6Ly9tYXRwbG90bGliLm9yZy/MnkTPAAAACXBIWXMAAAsTAAALEwEAmpwYAAA140lEQVR4nO3deXxU1d3H8c93JgkBZFNcARWVurUuqKi1VdSiuC9trdqqte6tbe2jrXZVu/hotdtTF0oVbV1qba2WKoq2CmqLyqoIiFJcCKiI7BCSzMzv+ePeJDeTmcmEZJKZzO/ta165c+6595ybkd+cnHvuOTIznHPOlY5Yd1fAOedc+3jgds65EuOB2znnSowHbuecKzEeuJ1zrsR44HbOuRLjgbsHkHSJpF93cZlTJI1uR/6XJe1duBptPklPSDqvC8q5TtJ9hS7H9XweuEuApLcl1UpaL+kDSXdL2iLcVwX8ALhZUm9Jb0o6N+34ayX9W1Len7ekMyT9R9JGSVPayLu/pDWSdoukHSBptaSdw6RbgB/nOMeXJSXDa1wv6a3wOj+Wb503l5kdZ2Z/iNTjhc09l6R7JNWH17BS0tOS9tiM87wt6TObWw/Xs3ngLh0nmdkWwEjgIIJgDXAK8LqZLTWzWuAC4JeStgWQtCfwP8AFZpZqR3krgV8DN7aV0cxmA7cBv1egEpgA/MjM3g6zTQSOlLR9jlNNC69xAPAZoBaYKenj7ah3Mfh5eB1DgeXAPd1bHdfTeOAuMWa2FHgCaAxmxwFTI/ufA/4M3CpJwO+B/zWz19tZzj/N7CFgWZ6HXA9sD1wMfA9YD9waOd8mYCZwTB5lJ83sv2b2VYJru65xn6RDwr8EVkt6JdpdE3bf/CT862KdpKckDQ73VUu6T9JH4bHTI19uUyRdGH7JjQMODVvMqyUdFP6VUxEp57OS5uRxHRuBB2j+rFqQdLKkeWE5U8LykXQvsCPwj7Ae32mrLFdePHCXGEnDgOOB2WHSJ4CFadmuJmiVPwxUAzdHjr89DBSZXq9ubr3MrI6gtX8TcCWZW/gLgH3beeq/AZ8O6z4EeBz4KbAlcBXwsKStI/nPBs4HtgGqwjwA5xG05IcBWwGXErToo9ewIEyfZmZbmNlAM5sOfASMiWT9EnBvWxUPu7O+SPNnFd33MeBPwBXA1sAkgkBdZWbnAO8S/pVlZj9vqyxXXjxwl45HJa0GXiBohd4Qpg8E1kUzmtl64GvAaQQBNBnZ99UwIGV67dPBOr4GJIC5WVr468L6tscygiANQcCcZGaTzCxlZk8DMwi+yBrdbWZvhN1GDwH7hekNBAF7t7BFP9PM1uZZhz+EZSNpS+BYgpZ0NleFn9UiYAvgyxnyfAF43MyeNrMGgnsAvYFP5lknV8Yq2s7iisSpZvbPDOmrgH4Z0uel/ewKvyD4UjlQ0plm9mDa/n7A6naecwhBfzvATsDnJZ0U2V8JPBt5/35keyNB4ISghTwMeFDSQOA+4Pth0GzLfcCCsAV9BvC8mb2XI/8tZvaDHPsBdgDeaXxjZilJSwiu17mcvMVd+l4F8h55IWlcZORG+muzg7ykowlulF4avn4Ttk6j9gReaeepTwOeD7eXAPem/ZXQ18zyuYHaYGbXm9leBK3aE4FzM2XNcOxSYFpYl3PIo5skD8sIvogACO9HDAOWZquHc408cJe+ScAR+WY2s0vDftNMr6Zx1pLikqoJ/iqLhTf3KjOdU1JfgpugV5jZh2b2BPA08KtInl7AAWF6TmHZwyX9FhhNcOMTgpbvSZKObayfpNGShuZxziMlfUJSHFhL0HWSzJD1A2CogmGWUX8EvkNwT+GRtsrLw0PACZKODn+vVwJ1wH8i9dilE8pxPZAH7tL3D2APSTt08nnPIbh5dwfBzcFaguCcyQ0EQxLvj6RdARwnqXEUycnAFDPLNUrlUEnrCQLrFKA/cJCZzQUwsyUErfrvAR8StMC/TX7/H28H/DU89wKCLp1MD8M8Q9C99L6kFZH0RwhayI+Y2YY8ysvJzBYS9Jv/FlgBnERwM7I+zPK/wA/Cm8ZXZTmNK1PyhRRKn6SLgb3M7IouLHMKcJ2ZTckz/0sEN0pfK2S9CknSf4FLstxrcK7L+M3JHsDMxnd3HdpiZgd3dx06QtJnCfqdn+nuujjngdttrnuAt7u5Dl0i/OtiL+Ccdj596lxBeFeJc86VGL856ZxznUDSWEkLJS2SdE2G/YMkPSLpVQWzZX48su+bkl4Lp0C4os2yiqnF3U9x25qMI85KktR5+bPtS0+Pvs+03eonwUbTvIFS876YQKDmzCim4L2A6H4paAaE24qHaQrTYrGmfcFxja/G9HjT+zVrKrHwv/4D6jFLhe9SmBkpC/dGt4GUpUgZmBG+t+A9NP00IzwmEORvzkfkOGjeB9B0VGRfk+hmlvRW+7LkaTN/LsXzz7mwPtywwsy2bjtjdtpxoLEpkW95k81sbNZzBcNM3yCYGqEGmA6cZWbzI3luBtab2fUKZoy8zcyODgP4g8AooB54ErjMzN7MVl5R9XFvTSU3xHZqO2OJqGjnb7cqx3dWtnNVpY02rqxsjtbRYxrzNaY1llVREeSP94oHP6vjxCti4XYFsYoYFeG+WGWMeK8K4pUxYtVx1KsCVcZQdePPOKqMo15x1K8K9aoICqyqhD7VKB5v2qaqEuIVUNUHKqpQVV+oqIKqPqjy2KZ6r9z0ZxpSdSQtQV1yIw2pemoTddQnEyRSSTYm6oNtS7KxoZ66ZIq6pNGQMjYljfX1jdvQkDTqkkZtwqhPBl3VtYkU9clU+DOIerUNSWoTwf76pFGbCIZ7JxPB/mRD8D6VaO7uTtY3Dwlvkd7Qcqh4NF+m/OnSj29LrnP1JHb7i++0nasNmxLo85/It7zBbWQZBSwys8UAkh4kGLo6P5JnL4JhnpjZ65J2Dic62xN4MZyUDElTCR72yjpHjXeVOOdcxw0heK6gUQ2tpy94BTgdQNIogucChhLM8XO4pK0k9SGYe2dYrsKKqsXtnHNdRhCryK/tmoTBkmZEksanDcPN1JmZ3nF1I8FUEHOAuQSzRibMbIGkmwieKl5PEOBz9uF44HbOubatMLMDc+yvoWUreShpc9mHs1GeD01z07wVvjCzu4C7wn03hOfLqugDd3xQf7a/9jKqdx0W3NQqIe2uba6bk9nSIzvMjNQ7S9j463HYmnxnLHWuPEkiXhnPK28edxqmAyMkDSeYKOxMgrnho+UNBDaG0xpcCDzXOLWwpG3MbLmkHQm6Uw7NVVjRB+7tr72MoQftS7+KqqYRECWjndXN9b2Uz6gSM2PtVlvxwRWXsuF6n3vfua5iZglJlwOTgTgwwczmSbo03D+O4CbkHyUlCW5aXhA5xcOStiKY/OxrZrYqV3kFC9ySJhBMnbnczDZ7zcDqXYeVZtDuBpIYUFHJip1y3tdo4Znt9ufuEcfxYfUgtq5bzUU1T3HsmrkFqd8P5uzCg2/vQNIgLjhzr9X8dMx6Hp1fzS0v9GHZWrHDgJZde/tf25eY+nLqAbV849iN/GteP+6aMpwVayvZql89px3yNguX9uWFBTuQMiEZI3d7l8+Meo2HnxlFzfJtms41eMvlpAxWrmpO69v/fYbvPZWaBaOpW9+8HKZ6B7OrWu0QGttkqqohsd2TxDfuRuW6g1FqCyy2jvq+L1K9bn/iNA88SLKCdX0fYFD9pcTo3ZSeopY6FtCb/Qm+2Y0NsdmsS/2TQbHP00vDm/LW2VtYlVEda54kcFNqMR/V/5ne8b0YUHEkcfUnaWtZk3iWqtgQtqgeSTDmIMW6hlmsrpvMwF7H0q+ydXommfLWJ2sY2OtI4hpA0tawuu5ZNia6cpp36FOxd4s6vNd7fvqUwe3Xjj7ufJjZJILZOqNp4yLb04ARWY79dHvKKtg4bkmHE3S0/zHfwL2Lqi19OOBuj9/GLoO3K0ANu0AXt7gb3y9a/gFrv/y1NocDPrv9/vx2nzOoizePKeyVrOc77zzKmFWvdupwwB+++XHuf2dI2i/F+OSwTcx+rxe1ieZ/QO/cdELT9k5XP96Ud+ROtcxbWk1dJG9MKVKmVuftW13Lhk29W6WHv6WWaaoD69VmXsOw+EqU7I8izxsYKYIR8Wl5SSFirdKBlmlmJG0tcfVvHjNP8xju9LQGW06FBhGLzDwbLHIUa5W3PrWcqtg2rdLXNcxoFbyDoH1ghjqkCIYpB1JWz8pNj3dZ8O5TsTdbVp/Q4nrfu+ebqbr3F+XXz5FFbPt+1uu8A/LKu+mmqTPb6OPuUgUbDhguWruyzYyu2/xh9+NbBG2AungV44eMyXLE5nvw3R1o/U0m/rOkukXQzk7Meqd3i6ANkLJYxvO2DtqE7zOktQramfMKoeSWLYJ2kN4yODflzZqelia1CtqN6ZnSKrVNiyAWpMcz5k0P2o3pQau6pX6VI7PUoWV8jKmKgb2ObHV8oQzsdWSr60XqcOySRLwqnter2HT7OG5JF0uaIWnGunxuAXSzm8bfzq333tPu48Z+5Us593/hG5exZl3X3lBc0XtQxvTlVQM7vaykeVdXccn0Tz//cBDXgM6rShGVVSq6/eZkOBZyPARdJd1cnYJ5ckKmOfub/fn/7ujyQTODa1fxYZ/WXYXb1K/u9LLisryDd9W2azq9fJcu0xOWKSDPURbWdZ9R0tZQoYGdf2KR96iSYtPtLe5S8IsJ4xn12ZM47asXsuidtwF4q2YJn//6pRx1zhmccNF5vPH2YgCWf7SCc779TQ4/+7McftZnefmVOQDs+OlRALy/4kNOvOg8jjj7cxx2xmlMmz0TgP1OOpaPVgU3km+77w8cesZpHHrGadzxQLC84TvLljLq9JP5xk+u45DPncppX72Y2k2bOnRd5y2cRK9kfYu0Xsl6Ll7a5upi7Xbmjsto/TxC0Mfdu6JlEBny5RfYPnxF847cqZZeaXljSmU8b9/q2ozpGdNUl1fexj5uoyEtPdU8j0k0b9b0tLSwjzv9fpOZZUxrsOWkrD4tPZkxb31qecb0dQ2zSLeuYVaWOrT8Szhl9ayue5ausrru2VbXS5lPr9vtLe72umn8Nvz899u0nRE499SV/Or7LVfK+tbPduCPjza3Mr9z0XKuvnh51nPMWTCPR556gin3P0QikeSoc85g3z324ls/u55ffPeH7LrjTsx47VW+fdPP+Psdd/HdW27ksP0P5N6bf0MylWRD7cYW53v4yUkcechhXHnBxSSTSTamBd85C+Zx/8RH+ecf7scMxpx3NoeNPJCBA/rz3yXvcuf//pz/++F1fPnqK5n4r6c588ST2FxHvjebeFytRpWMKcCokp/suwhiyjyq5I3+3PJCv3BUifj2MRW8/E6CB6cHEzzFRDiq5AOenNuLu6YMzmtUyf1PH5T3qJI35x6edVRJ0+RT4agS1gxvNaqkIsuokv4bLmp7VIlFRpWQNqrE2jmqJL75o0oa04ptVMnGxDzYRIs6JNZ+2OG5SiR16qiSrlTI4YB/IljodbCkGuDa8OmgkvLi7FmcMPpo+lQH//jGHj6aTfV1TJ87h69cc2VTvrqGoEXw/IyXuf36GwCIx+P036Jfi/Ptv9fefOPHPyKRSHD86KP4xO57pJU3mxOPPJq+vfsAcOKRRzNt9iyOGz2anXYYwj5h/v323It338u1fGN+jnp/Nke9P7vFJFMU6H/mn+63mJ+OWtJykin6cOpemzhtv3jTJFPEKjhhf/jByfXhxFKNk0zB0Xuv45O7r2gxydQBu73PGYe/kTbJFHz2qJfznGQKhu45Jf9JpvosItlnUYsJnepiC5u2o+mrqppGgwXHhpNMrYsspJNKBflXpf7S6neWbZKp2uR8apPzW6Wtqs0ckLMN/8s3b1cP/8tUfrQOVru2rAc+FCxwm9lZhTp3V0u/026pFAO26MfUB/7a7nN9cuSB/OP39/D0C89x2Y++y+XnnM+ZJ57cfO4c83L2ikwFGI/FqU3Utbt851zpK7m/E66+eDkfTX8tr1d6NwnAr76/rEWeXN0kAIeOPIDHp/yL2k2bWLdhA5Ofn0rv6t7suMMQ/v7PoGViZrz2RtDiOvygg7n7r38GIJlMsnb9+hbnW/LeMrYetCXnnvY5vnTK6by6cEGL/Z/c/wAen/IMG2tr2VC7kcemPMOh+7ceutWTjR+/A3eOH8qE3+/Y3VVxPZko2eGAJdfH3dX23WMvTh0zliO++HmGbb89h+wXBNHf/eRGrrrxp/xiwngaEglOHzOWj39sd2648mq+dcP13Dfxb8TjcW655gcctM9+Ted7YeZ0bv3jPVRWVNC3Tx9uv/5nLcvbcy/OPukUjj4vmObg3FNPZ5899uTd95Z22TV3t0su27Np+4tfeb0ba+JccSqqFXD8yckcpyrAk5PBe19IwRdSKD12+4sdfpKxcseBNujK/J40//CKx8rjyUnnnHOF4V0lzrny5A/gFFCq9QMLLjszg1R5/LnsXLkq+hb3pv8uYd2WW/rUrnkwM9YmG0i+s6TtzM6VOSHiFaUZU4o+cL93/R3gK+C0ewUc51zXkjQW+A3BhC93mtmNafsHAPcBOxLE3lvM7O5w37cIVsUxgvUozzezrHNaFH3gTq5aS80VN3V3NTZLRTt/u1WV2fdlO1dV2myXlZWl9eXmXHeJCXpXdE4ft4K5b28DxhCsFzld0kQziz7e+jVgvpmdJGlrYKGk+4GtgW8Ae5lZraSHCJY+uydr3Tul1s45V95GAYvMbHG4puSDwClpeQzoFy4UvAXBegWNSz5VAL0lBfNApC00nK7oW9zOOVcIkqiK5/0X6mBJMyLvx4dTUjcaAkRvLtUAB6ed41ZgIkFQ7gd8wYJZDpdKugV4F6gFnjKzp3JVxgO3KzonnvBhOCGqj45xRWNFGw/gZPoGSB8OdywwBzgK2BV4WtLzBH3ipwDDgdXAXyR9ycyyTuLvgdsVnX9MfJUGEjSk6qkr/kWRnIOghR1dpXsorbs7zgdutOBx9UWS3gL2AHYC3jKzDwEk/Q34JMGNzIw8cDvnylJwc7LTbvNNB0ZIGg4sJbi5eHZanneBo4HnJW0L7A4sJmitHyKpD0FXydHADHLwwO2ccx1kZglJlwOTCbo+JpjZPEmXhvvHAT8B7pE0lyBYX21mK4AVkv4KzCK4WTmbcDnHbDxwO+fKUkyidyc+8m5mk4BJaWnjItvLgGOyHHstcG2+ZXngdkXnuuuHkyRFypJc9f053V0d54qOB25XdK7/cfMaix64XaEI2jMcsKj4AzjOOVdivMXtnCtLnTyqpEuVZq2dc66MeYvbOVeWgkfeS7PtWpq1ds65MuYtbudcWfI+buecc13GA7dzzpUY7ypxzpWl4AGc0my7euB2ReeiC5eSIkXKfD5u5zLxwO2Kzvjfve7zcbuCi0n0LtFV3kvz7wTnnCtj3uJ2zpUlCXr5JFPOOVe+JI2VtFDSIknXZNj/bUlzwtdrkpKStpS0eyR9jqS1kq7IVZa3uF3RufiSPZpuTv7ithe7uzquhxJQ2Uktbklx4DZgDMH6k9MlTTSz+Y15zOxm4OYw/0nAt8xsJbAS2C9ynqXAI7nK88Dtis7v7xzStO2B25WIUcAiM1sMIOlBgpXb52fJfxbwpwzpRwP/NbN3chXmgds5V5Zigur8Vy4bLCm6gO94M4uuCzkEWBJ5XwMcnOlE4aLAY4HLM+w+k8wBvQUP3M4517YVZnZgjv2Z+lwsS96TgH+H3STNJ5CqgJOB77ZVGb856ZxzHVcDDIu8Hwosy5I3W6v6OGCWmX3QVmHe4nbOlSUBlbFOGw44HRghaTjBzcUzgbNblSkNAI4AvpThHNn6vVvxwO2ccx1kZglJlwOTgTgwwczmSbo03D8uzHoa8JSZbYgeH/Z7jwEuyac8D9zOubLU2Q/gmNkkYFJa2ri09/cA92Q4diOwVb5leR+3c86VGG9xO+fKUvAATnfXYvN4i9s550qMt7hd0bn2R4tJkiJlPqerK5yYRHWJTjLlgdsVneuufcvn43YuBw/czrmy1MnjuLuU93E751yJ8Ra3c64slfJCCh64XdE56eR9SGEYKe5/eGp3V8e5ouOB2xWdxx7furur4FxR88DtnCtLMUGveGne5ivNWjvnXBnzFrdzriwJURErzWfevcXtnHMlxlvczrmyJImquLe4nXOubEkaK2mhpEWSrsmSZ7SkOZLmSZoaSR8o6a+SXpe0QNKhucryFrdzriwJqFDntLglxYHbCFaxqQGmS5poZvMjeQYCtwNjzexdSdtETvEb4Ekz+1y4aHCfXOV5i9s55zpuFLDIzBabWT3wIHBKWp6zgb+Z2bsAZrYcQFJ/4HDgrjC93sxW5yrMA7dzriwJURWvyOsFDJY0I/K6OO10Q4Alkfc1YVrUx4BBkqZIminp3DB9F+BD4G5JsyXdKalvrrp7V4krOr+7YwFJUiQt0d1Vca7RCjM7MMf+TJOeWNr7CuAA4GigNzBN0oth+kjg62b2kqTfANcAP8xWmAduV3QuvniZz8ftCk6CilindTrUAMMi74cCyzLkWRGu8L5B0nPAvsDzQI2ZvRTm+ytB4M7Ku0qcc67jpgMjJA0Pby6eCUxMy/N34NOSKiT1AQ4GFpjZ+8ASSbuH+Y4G5pODt7idc66DzCwh6XJgMhAHJpjZPEmXhvvHmdkCSU8CrwIp4E4zey08xdeB+8Ogvxg4P1d5Hridc2VJiKpY54VAM5sETEpLG5f2/mbg5gzHzgFy9aG34IHbFZ0DDjoIwzAznpk2ubur41zR8cDtis6sWf27uwquDEg+yZRzzrku4i1u51xZanwApxR5i9s550pM1q8bSXNp/eQPBE8ImZntU7BaOedcgUl06qiSrpSr1id2WS2cc87lLWvgNrN3Grcl7QSMMLN/Suqd6zjnnCsFQsR76qgSSRcRPDv/uzBpKPBoAevknHMuh3xuTn4NOAxYC2BmbwLb5DzCOedcweTT5VFnZvVSMGuhpAoy37R0zrmSIYnKWFV3V2Oz5BO4p0r6HtBb0hjgq8A/ClstV84mPvoKCZI+H7dzWeQTuK8BLgDmApcQTKJyZyEr5crbSSet8Pm4XRcQcZXmOIs2a21mKUl/AF4i6CJZaGbeVeKcc92kzcAt6QRgHPBfgodvhku6xMyeKHTlnHOuUISoKNE+7nxGlfwCONLMRpvZEcCRwK8KWy3nnCstksZKWihpkaRWS49JGi1pjaQ54etHkX1vS5obps9oq6x8OniWm9miyPvFwPK8rsS5zbDD0E8BhgHz3/p7d1fH9VDqxD5uSXHgNmAMwdqS0yVNNLP0JcieN7NsT6UfaWYr8ikv11wlp4eb8yRNAh4i6OP+PMH6as4VxHvv9eruKjjXXqOARWa2GEDSg8AptLF25ObK9XVzUmT7A+CIcPtDYFAhKuOcc11FilEZy7uRMDitC2O8mY2PvB8CLIm8ryFYDDjdoZJeIVgB/iozmxemG/CUJAN+l3buVnLNVZJzsUrnnCsjK8ws15qQypCWPvpuFrCTma2XdDzB1CEjwn2HmdkySdsAT0t63cyey1ZYPqNKqgnGce8NVDfVyOwrbR3rnHPFqpNHldQAwyLvhxK0qpuY2drI9iRJt0sabGYrzGxZmL5c0iMEXS9ZA3c+o0ruBbYDjgWmhhVal+fFOOdcOZgOjJA0XFIVcCYwMZpB0nYK5w6RNIog/n4kqa+kfmF6X+AY4LVcheVzS3U3M/u8pFPM7A+SHgB86W3nnAuZWULS5QSxMQ5MMLN5ki4N948DPgdcJikB1AJnmplJ2hZ4JIzpFcADZvZkrvLyCdwN4c/Vkj4OvA/s3P5Lc865YtK5j7yb2SSCKUGiaeMi27cCt2Y4bjGwb3vKyqfW4yUNAn5I0PTfAvhR7kOcc84VSj5zlTROKDUV2KWw1XHOua7RI6d1lfQ/uQ40s192fnWcc861JVeLu1+X1cK5iBkvv0yCJIlUQ9uZndtMnfnIe1fL9QDO9V1ZEecaHXDAOp+P27kcSvPrxjnnOkGsRFcWyOcBHOecc0XEW9zOufJkBqnSXNe0zRa3pG9K6q/AXZJmSTqmKyrnypPiR1MVP5a+lSe1ndm5MpRPV8lXwslRjgG2Bs4HbixorZxzruAMEvX5vYpMPoG7cbrC44G7zewVMk9h6JxzrgvkE7hnSnqKIHBPDmexShW2Ws4557LJ5+bkBcB+wGIz2yhpS4LuEuecK109+eYkcCiw0MxWS/oS8ANgTWGr5ZxzLpt8AvcdwEZJ+wLfAd4B/ljQWjnnXKFZz745mTAzI1ix+Ddm9ht8HhPnnGtB0lhJCyUtknRNjnwHSUpK+lxaelzSbEmPtVVWPn3c6yR9F/gScLikOFCZx3HOOVe8LIUl6jrlVGFcvA0YQ7D+5HRJE81sfoZ8N5F5FbFvAguA/m2Vl0+L+wtAHXCBmb1PsAz9zXkc55xz5WIUsMjMFptZPfAgQS9Fuq8DDwPLo4mShgInAHdmOKaVfBZSeB/4ZeT9u3gft3Ou5LVrVMlgSTMi78eb2fjI+yHAksj7GuDg6AkkDQFOA44CDko7/68J7iHm1Q3dZuCWdAjwW2BPoIpgIcz1ZjYgnwKca6+lS56ngSSJVPHdFHJla4WZHZhjf6aHEtPnHvw1cLWZJcOFgYMDpROB5WY2U9LofCqTTx/3rQRLzf8FOBA4FxiRz8md2xw77FDv83G7wmscVdI5aoBhkfdDgWVpeQ4EHgyD9mDg+HDF94OBkyUdD1QD/SXdZ2ZfylZYXrMDmtkiSXEzSwJ3S/pP3pfjnHM933RghKThwFKCxu7Z0QxmNrxxW9I9wGNm9ijwKPDdMH00cFWuoA35Be6NkqqAOZJ+DrwH9M3rUpxzrmh13pOTZpaQdDnBaJE4MMHM5km6NNw/rlMKCuUTuM8JK3I58C2CPwc+25mVcC5q2bIqGoiTSIktt93Y3dVxLi9mNgmYlJaWMWCb2ZezpE8BprRVVj6jSt4JN2sBX4fSFdyQYZ9u2l656c/dWBPnilPWwC1pLq3vijYxs30KUiPnnOsKnXtzskvlanGf2GW1cM45l7dcgbsS2NbM/h1NlPRpWg9zcc650mIGyZ43reuvgXUZ0mvDfc4557pBrhb3zmb2anqimc2QtHPhquScc13ADOobursWmyVXi7s6x77enV0R55xz+ckVuKdLuig9UdIFwMzCVck557qAAYlkfq8ik6ur5ArgEUlfpDlQH0gw0dRpBa6Xc865LLIGbjP7APikpCOBj4fJj5vZM11SM+ecK6QS7uPO58nJZ4Fnu6Auzjnn8pDX7IDOdSVL/sundXUuBw/czrnyVMJdJfmsOemcc66IeIvbOVeezLBkafbFeYvbFZ2ZM/sxa2Z/Zs/0ZU1d6ZA0VtJCSYskXZNh/ymSXpU0R9IMSZ8K06slvSzpFUnzJLU5fba3uF3ROXDUqKZtn4/bFUwn9nFLigO3AWMI1p+cLmmimc2PZPsXMNHMTNI+wEPAHkAdcJSZrZdUCbwg6QkzezFbed7ids65jhsFLDKzxWZWDzwInBLNYGbrzaxxjYO+hOsdWGB9mF4ZvrKuhQAeuJ1z5cqsPY+8Dw67NxpfF6edbQiwJPK+JkxrQdJpkl4HHge+EkmPS5oDLAeeNrOXclXdu0qcc65tK8zswBz7lSGtVavZzB4hmErkcOAnwGfC9CSwn6SB4f6Pm9lr2QrzwO2cK0+dO467hmAh9UZDybHgjJk9J2lXSYPNbEUkfbWkKcBYIGvg9q4S55zruOnACEnDJVUBZwIToxkk7SZJ4fZIggn7PpK0ddjSRlJvglb467kK8xa3c648GZDonKXLzCwh6XJgMhAHJpjZPEmXhvvHAZ8FzpXUQLCS2BfCESbbA38IR6bEgIfM7LFc5Xngds65TmBmk4BJaWnjIts3ATdlOO5VYP/2lOVdJc45V2K8xe2cK09mWF1prvLugdsVne23rwMs9xMIzpUxD9yu6CyrecHn43YFZ2ZYif4P5n3czjlXYrzF7ZwrTymg3lvczjnnuoC3uF3R+cc/BpMgSdISHH3cW91dHddTlXAftwduV3ROPnXfpu2VmzxwO5fOA7dzrjyZYQ2l2eL2Pm7nnCsx3uJ2zpWnFNgmb3E755zrAh64nXOuxHhXiXOuPJlhDanursVm8Ra3c851AkljJS2UtEjSNRn2f1HSq+HrP5L2DdOHSXpW0gJJ8yR9s62yvMXtnCtLZoZt6pxpXcPVa24DxhCsPzld0kQzmx/J9hZwhJmtknQcMB44GEgAV5rZLEn9gJmSnk47tgVvcTvnXMeNAhaZ2WIzqwceBE6JZjCz/5jZqvDtiwQLCmNm75nZrHB7HbAAGJKrMG9xu6IzcuRaDMPMZ+R2BWS0p497sKQZkffjzWx85P0QYEnkfQ1BazqbC4An0hMl7UywjNlLuSrjgdsVnZnTp/t83K7YrDCzA3PsV4a0jC0PSUcSBO5PpaVvATwMXGFma3NVxgO3c648pTp16bIaYFjk/VBgWXomSfsAdwLHmdlHkfRKgqB9v5n9ra3CvI/bOec6bjowQtJwSVXAmcDEaAZJOwJ/A84xszci6QLuAhaY2S/zKcxb3M658mSQ6qRH3s0sIelyYDIQByaY2TxJl4b7xwE/ArYCbg9iNYmw++Uw4BxgrqQ54Sm/Z2aTspXngdsVnfHjdyBJiqQl+OJXXu/u6jiXlzDQTkpLGxfZvhC4MMNxL5C5jzwrD9yu6Fxy2Z5N2x64XaGYGUl/ctI551xX8MDtnHMlxrtKnHNlyVJGsvOGA3Ypb3E751yJ8Ra3c648GaT85qRzzrmu4C1u51xZMjMSJToZjre4nXOuxHiL2zlXngxSidLs4/bA7YrOiSd8SArDKM1/VM4VmgduV3T+MfFVn4/bFZyljGQnLV3W1byP2znnSowHbuecKzHeVeKcK0tmkCzRm5Pe4nZF57rrh/Pj63flZz/+WHdXxbm8SRoraaGkRZKuybB/D0nTJNVJuipt3wRJyyW9lk9Z3uJ2Ref6H+/StH3V9+d0X0Vcz2ZGspNWwJEUB24DxhCsPzld0kQzmx/JthL4BnBqhlPcA9wK/DGf8rzF7ZxzHTcKWGRmi82sHngQOCWawcyWm9l0oCH9YDN7jiCw58Vb3M65smQpSOY/3nSwpBmR9+PNbHzk/RBgSeR9DXBwB6uYlQdu55xr24pwYd9sMq0ZaYWqjAdu51xZMoxEotNiaw0wLPJ+KLCss06ezvu4nXOu46YDIyQNl1QFnAlMLFRh3uJ2zpUlM6hvdZtwc89lCUmXA5OBODDBzOZJujTcP07SdsAMoD+QknQFsJeZrZX0J2A0QV96DXCtmd2VrTwP3M451wnMbBIwKS1tXGT7fYIulEzHntWesjxwO+fKkhkkSnOOKe/jds65UuMtbld0LrpwKSlSpKw055FwrtA8cLuiM/53r/t83K7gzKC+vrtrsXm8q8Q550pMQVvcksYCvyEYHnOnmd3Y3nPM3mMkkw8/ntX9BzFw7SqOfW4S+78+q9PrCvDoUafz0v6HYoohS3Hw7Gmc+szf2pU3Wl9ZKtifSmKxeNOx26xYxnfu+wUzdx/JE586ntX9BjFw3SpOmjaJg97MfG0v7zaSiQcfz8otBhGzFCnFqGqoo6GiCpOQGZWJeuore9ErUUddvAokYpbiqEXTeH2b4dQM2KHpfMPWLWPcC7/k6pEXMmer3ZvSR655kxNWzmH8kDEsrxrItok1fHX1sxy3YT6f3/orLK7cpkW91ADWYIAQRjUJNlFJtRqos8oWi49VKkWDNbcVPjlkA/d/fhWPzq/mlhf6sGyt2GFAgm8fA0mS3PKUeH9NX7Yd0JtLj1rP6L02ZvzdPDB1V15YsAMpE5Ixcrd3+cyovCZZc2WslG9OyqwwT2WGs2W9QWS2LOCstNmyWthF1XZDbKem97P3GMnfxp5BQ2VVU1plQz2nP/lQpwfvR486nRdHHgaKPLlqxiGz/t0qeGfLu+tbC3l32C4t6puRGf3WrWJT7y1aXduZzzzUKnhPHzGSPx91BvVtnTdHeUCr+lYl6qiv6NUqXRim5gBbnapni2QtKyr6t8zbYcaILRuoWVtBbaK5vMoYIGiIdJNUV6a48vgVjN5rFbWJOuqTCRKpJL/75xCefW17Wj5xbOw34m2OOOA11tcbDSljUxIakkZd0qhNGPXJ4CulNpGiPpkKfwa/p9qGJLXhPM31SaM2EVQkGT5llwwrFl1oNlnfXNkW6Q0t+3qi+TLlT5d+fFtKdfHb9rLbX5zZxiPobdq9qtrGb71zXnlHL1vY4fI6UyG7StqcLastkw8/vlUQbKisYvLhx3deLUMv7X9o66AkBel55v3v8N3bDtph3nX9BmW8tscObX1tjx16/OYH7bC8TPVtFbTD9GjQBtgUqypA0AYQb66sbBG0Ad6f9Anef/wTfPTkJ5rr0BDjzmcHtTrD1Hnb0XqaCPHKop1a5XUuygwaGiyvV7EpZFdJXrNlSboYuBhgcFp1Vvdv/Q81V3pHpAerXOnZ8naGVf1aX1umtJ5s/Ss7Nm1vNXZu0/byta3/d01Z5i8Ty5LuXE9QyBZ3XrNlmdl4MzvQzA7sR7zFvoFrV2U8cbb0jlCWoWeZ0rPl7QyD1rW+tkxp5Wib/q07JGPK3BpSlnTnGjWOKsnnVWwKGbg7PFvWsc9NorKh5W+tsqGeY5+blOWIzXfw7GnNfcGNzIL0PPPu+tbCVvXNKOzjznRtJ05rfW0nTptEVT7nzVFepvpWJeoypqd/MVWn6hmcWNs6b4cFfdy9K9r+IqyuTHHhka2/wI7Y+31atweMfXd7p3Oq6FwRKmTg7vBsWfu/PovTn3yIgWtWghkD16wsyI1JgFOf+RuHzPo3SiWD4JVKZrwxmSvvRQ+Pb1Hfpv3JRHPwNGObFcu49q6f8rmnH2Lg2vDa1q7MeGMS4KA3Z3H21IfYcl2QNxaet6p+E0qlwrJSVNVvAjN6NWyCMD2WSvKZN//N0DXLWtRh2LplPPL099nvo4Ut0keueZMfvPVXtq1bhczYrmE13/vocZ5Yeiu7NCxvkReCG5mQCrdT9KYeYfRWPTGCPI2vSiVbvP/kkA08de4H3HDMOob0TyGMIQNaXrswthuQ5JoT1zHm4xta/W7OGf0Wh++1lJjCOijFASPe4dhR8zr4f4Tr6RpHleTzKjYFG1UCIOl44Nc0z5b1s1z500eVlLqKdt5BqKps/7mq0u5ZVlY291BFj2nM15jWWFZFRZA/3ivopopXx4lXxMLtCmIVMSrCfbHKGPFeFcQrY8Sq46hXBaqMoerGn3FUGUe94qhfFepVERRYVQl9qlE83rRNVSXEK6CqD1RUoaq+UFEFVX1Q5bFN9V656c80pOpIWoK65EYaUvUtRpVsTNQH25ZkY0M9dckUdcnGkSTmo0p6qM4YVbJbvNp+2Tu/eHPKhjeKalRJQcdxZ5otyznnikFnTuva1fzJSeecKzEeuJ1zrhNIGitpoaRFkq7JsF+S/i/c/6qkkfkem84nmXLOlaXOfOQ9fFL8NiJPikuamPak+HHAiPB1MHAHcHCex7bgLW7nnOu4fJ4UPwX4owVeBAZK2j7PY1soqhb3W9StOCv1RnsG4A4GVhSqPh3W3qHXLfMX97V1TN7XtmV1gWvS+fxz6xodHn72FnWTz0q9MTjP7NWSZkTejzez8ZH3+TwpninPkDyPbaGoAreZbd2e/JJmFNMQnc7k11aa/NpKh5mN7cTT5fOkeLY8eT1lHlVUgds550pUPk+KZ8tTlcexLXgft3POdVw+T4pPBM4NR5ccAqwxs/fyPLaFUm9xj287S8nyaytNfm1lyMwSki4HJtP8pPg8SZeG+8cRPIx4PLAI2Aicn+vYXOUV9JF355xznc+7SpxzrsR44HbOuRJTlIFbUlzSbEmPhe+3lPS0pDfDn4Mieb8bPia6UNKxkfQDJM0N9/2f1Onrbm2WDNd2naSlkuaEr+MjeUvm2iS9HdZpTuN4157yuWW5tp7yuQ2U9FdJr0taIOnQnvK59WhmVnQv4H+AB4DHwvc/B64Jt68Bbgq39wJeAXoBw4H/AvFw38vAoQRjJJ8Ajuvu68pybdcBV2XIV1LXBrwNDE5L6xGfW5Zr6ymf2x+AC8PtKmBgT/ncevKr6FrckoYCJwB3RpJPIfgfjPDnqZH0B82szszeIrhbOyp8jLS/mU2z4P+qP0aO6TZZri2bkrq2LHrE59ZOJXNtkvoDhwN3AZhZvZmtpjw/t5JSdIGbYOGF7xAsq9JoWwvGOxL+3CZMz/UIaU2G9O72a1pfG8DlCmYLmxD5s7TUrs2ApyTNVLAANPSczy3TtUHpf267AB8Cd4fdd3dK6kvP+dx6rKIK3JJOBJab2cx8D8mQtlmPkBZajmu7A9gV2A94D/hF4yEZTlOU1xY6zMxGEsyA9jVJh+fI2xOurSd8bhXASOAOM9sf2EDQNZJNKV1bj1ZUgRs4DDhZ0tsEM2QdJek+4IPwzzHCn8vD/NkeIa0Jt9PTu1PGazOzD8wsaWYp4PcEM4VBaV0bZrYs/LkceITgOnrC55bx2nrI51YD1JjZS+H7vxIE8h7xufVkRRW4zey7ZjbUzHYmeOzzGTP7EsHjn+eF2c4D/h5uTwTOlNRL0nCCeW5fDv+8WyfpkPDu9rmRY7pFtmtr/AcSOg14LdwumWuT1FdSv8Zt4BiC6yj5zy3btfWEz83M3geWSNo9TDoamE8P+Nx6vO6+O5rtBYymeeTFVsC/gDfDn1tG8n2f4O72QiJ3soEDCf4x/Re4lfAp0WJ4pV3bvcBc4FWCfxjbl9q1EfSVvhK+5gHf7ymfW45rK/nPLazTfsCM8DoeBQb1hM+tp7/8kXfnnCsxRdVV4pxzrm0euJ1zrsR44HbOuRLjgds550qMB27nnCsxHrh7CEnbSnpA0uLw0expkk7rwPmukNSnk+r2tqR8V9POdPz6zqhHoYWz7O3SRp7LJZ3fVXVyPZMH7h4gfOjhUeA5M9vFzA4geMhnaM4Dc7sC6JTAXQ4k7U0wU97iNrJOAL7RBVVyPZgH7p7hKKDegnXtADCzd8zst9A0B/jNkqaHkyJdEqaPljQlMh/z/Qp8A9gBeFbSs2Hes8L5ll+TdFNjOdnSM/i2pJfD127hsTtJ+ldYp39J2jFMHx7+xTBd0k8iZd0r6ZTI+/slnRwtJLymqZIekvSGpBslfTEsd66kXcN8J0l6KZxc6Z+Stg3Tj1DzHNuzJfWTtL2k58K01yR9OsP1fZHI04KSLgjLnyLp95JuDT+XjcDbkkZlOIdz+enuJ4D81fEXQQvuVzn2Xwz8INzuRfCk3HCCJzjXELTMY8A04FNhvrcJ56AmCOLvAlsTTEz0DMG0nRnTM5T/Ns1PHJ5L81Oj/wDOC7e/Ajwabk8Ezg23vwasD7ePiOQZALwFVKSVNRpYDWwfXutS4Ppw3zeBX4fbg2hec/VC4BeROh0Wbm8RXteVkfrHgX4ZrnEq8InI7+ttYEugEngeuDWS9/vAld39/42/SvflLe4eSNJtkl6RND1MOgY4V9Ic4CWCR5pHhPteNrMaCyZLmgPsnOGUBwFTzOxDM0sA9xPM45wtPZM/RX4eGm4fSrCoBASPkH8q3D4skv/exhOY2VRgN0nbAGcBD4flpptuZu+ZWR3BI9hPhelzI9c3FJgsaS7wbWDvMP3fwC/DvzoGhuefDpwv6TqC4LwuQ5nbE0yRCsGEU1PNbKWZNQB/Scu7nCC4O7dZPHD3DPMIZnUDwMy+RjBh0NZhkoCvm9l+4Wu4mTUGs7rIeZIELcx02Zahas/yVJZlu7157iXoljgfuDtLnug1pSLvUzRf328JWsGfAC4BqgHM7EaCFnhv4EVJe5jZcwRfSEuBeyWdm6HM2sZz0PbvpTrM79xm8cDdMzwDVEu6LJIWvbE4GbhMUiWApI+FM93lsg7oF26/BBwhabCkOEFrd2qO9Ey+EPk5Ldz+D8FNVAiC8Qvh9r/T0qPuIbhxipnNa+MachlAEIiheSY8JO1qZnPN7CaCLqU9JO1EMJf67wlWixnZ6mywANgt3H6Z4PcySFIF8Nm0vB+jeTZB59otU+vKlRgzM0mnAr+S9B2CP9k3AFeHWe4k6CKYFY5A+ZC2l5YaDzwh6T0zO1LSd4FnCVqTk8zs7xAsHpspPYNekl4iaCycFaZ9A5gg6dthnRqHyX0TeEDSN4GH0671A0kLCEbRdMR1wF8kLQVeJOjzB7hC0pEEf33MJ1g/8UyCm6sNwHqCfvp0jxP0r//TzJZKuoHgi21ZeJ41kbyHAdd3sP6ujPnsgK6khGPL5wIjzWxNW/m7iqTeBF9gh5lZUtIWZrY+bHE/Akwws0ck7Q/8j5md060VdiXNu0pcyZD0GeB14LfFFLQBzKwWuJbmtRavC28Gv0Yw+uXRMH0w8MOurp/rWbzF7ZxzJcZb3M45V2I8cDvnXInxwO2ccyXGA7dzzpUYD9zOOVdi/h/D7Hj2fHUGQwAAAABJRU5ErkJggg==\n",
      "text/plain": [
       "<Figure size 432x288 with 2 Axes>"
      ]
     },
     "metadata": {
      "needs_background": "light"
     },
     "output_type": "display_data"
    }
   ],
   "source": [
    "y = np.linspace(-0.05,1.05, 5)\n",
    "\n",
    "#allows us to create a grid for contour plotting\n",
    "xx_true, yy = np.meshgrid(x_true_range, y)\n",
    "\n",
    "# gets prediction for each \n",
    "zz = np.tile(\n",
    "    logreg_clf.predict_proba(\n",
    "        x_scale_range)[:,1].reshape(-1,1), len(y)).T\n",
    "\n",
    "plt.contourf(xx_true, yy, zz, 99, cmap='RdYlGn')\n",
    "plt.colorbar()\n",
    "plt.scatter(X_train, y_train)\n",
    "plt.axvline(x_true_decision, c = 'blue', linewidth = 3, linestyle = '--', label = 'decision')\n",
    "plt.yticks([0,1])\n",
    "plt.title('P(Y=1|X) Density Plot')\n",
    "plt.ylabel('Class label')\n",
    "plt.xlabel('Gentoo body mass (g)')\n",
    "plt.legend()\n",
    "plt.show()"
   ]
  },
  {
   "cell_type": "markdown",
   "metadata": {
    "cell_style": "split",
    "slideshow": {
     "slide_type": "fragment"
    }
   },
   "source": [
    "Logistic regression:\n",
    "- gives us a band of uncertainty about decision boundary\n",
    "- optimizes (based on data):\n",
    "    - uncertainty region \n",
    "    - boundary location"
   ]
  },
  {
   "cell_type": "markdown",
   "metadata": {
    "cell_style": "center",
    "slideshow": {
     "slide_type": "slide"
    }
   },
   "source": [
    "#### Getting the classifier accuracy on the training set\n",
    "- .score(X_train, y_train) \n",
    "\n",
    "Fraction of correct classifications over training set"
   ]
  },
  {
   "cell_type": "code",
   "execution_count": 50,
   "metadata": {
    "slideshow": {
     "slide_type": "fragment"
    }
   },
   "outputs": [
    {
     "data": {
      "text/plain": [
       "0.9263157894736842"
      ]
     },
     "execution_count": 50,
     "metadata": {},
     "output_type": "execute_result"
    }
   ],
   "source": [
    "# remember: our logistic regression is fit on the SCALED features\n",
    "logreg_clf.score(X_train_scaled, y_train)"
   ]
  },
  {
   "cell_type": "markdown",
   "metadata": {
    "slideshow": {
     "slide_type": "subslide"
    }
   },
   "source": [
    "Our logistic regression is fitting well to the training set."
   ]
  },
  {
   "cell_type": "markdown",
   "metadata": {
    "slideshow": {
     "slide_type": "slide"
    }
   },
   "source": [
    "#### Logistic Regression at Test time"
   ]
  },
  {
   "cell_type": "markdown",
   "metadata": {
    "cell_style": "split",
    "slideshow": {
     "slide_type": "fragment"
    }
   },
   "source": [
    "Want to make predictions on the test set:\n",
    "- get class membership based on $X$\n",
    "- get probabilities for being in each class based on $X$"
   ]
  },
  {
   "cell_type": "markdown",
   "metadata": {
    "cell_style": "split",
    "slideshow": {
     "slide_type": "fragment"
    }
   },
   "source": [
    "- .predict(X_test)\n",
    "- .predict_proba(X_test)"
   ]
  },
  {
   "cell_type": "markdown",
   "metadata": {
    "slideshow": {
     "slide_type": "subslide"
    }
   },
   "source": [
    "But need to be careful:\n",
    "- fitted and transformed StandardScaler on train set\n",
    "- need to transform test set with same StandardScaler fit to the train set"
   ]
  },
  {
   "cell_type": "code",
   "execution_count": 51,
   "metadata": {
    "cell_style": "split",
    "slideshow": {
     "slide_type": "fragment"
    }
   },
   "outputs": [
    {
     "data": {
      "text/plain": [
       "array([[-0.21216492],\n",
       "       [-0.77631847],\n",
       "       [ 0.8135688 ],\n",
       "       [ 0.40327531],\n",
       "       [-0.98146522],\n",
       "       [-1.0327519 ],\n",
       "       [-0.93017853],\n",
       "       [-1.95591225],\n",
       "       [ 1.83930253],\n",
       "       [-1.85333888],\n",
       "       [ 1.22386229],\n",
       "       [-0.10959155],\n",
       "       [-1.34047202],\n",
       "       [ 0.09555519],\n",
       "       [ 1.22386229],\n",
       "       [ 0.60842206],\n",
       "       [-0.82760516],\n",
       "       [-1.23789865],\n",
       "       [-0.62245841],\n",
       "       [ 1.9418759 ],\n",
       "       [ 1.53158241],\n",
       "       [-0.36602498],\n",
       "       [-0.72503179],\n",
       "       [ 0.60842206]])"
      ]
     },
     "execution_count": 51,
     "metadata": {},
     "output_type": "execute_result"
    }
   ],
   "source": [
    "X_test_scaled = ss.transform(X_test)\n",
    "X_test_scaled"
   ]
  },
  {
   "cell_type": "code",
   "execution_count": 52,
   "metadata": {
    "cell_style": "split",
    "slideshow": {
     "slide_type": "fragment"
    }
   },
   "outputs": [
    {
     "data": {
      "text/plain": [
       "array([[5000.],\n",
       "       [4725.],\n",
       "       [5500.],\n",
       "       [5300.],\n",
       "       [4625.],\n",
       "       [4600.],\n",
       "       [4650.],\n",
       "       [4150.],\n",
       "       [6000.],\n",
       "       [4200.],\n",
       "       [5700.],\n",
       "       [5050.],\n",
       "       [4450.],\n",
       "       [5150.],\n",
       "       [5700.],\n",
       "       [5400.],\n",
       "       [4700.],\n",
       "       [4500.],\n",
       "       [4800.],\n",
       "       [6050.],\n",
       "       [5850.],\n",
       "       [4925.],\n",
       "       [4750.],\n",
       "       [5400.]])"
      ]
     },
     "execution_count": 52,
     "metadata": {},
     "output_type": "execute_result"
    }
   ],
   "source": [
    "X_test"
   ]
  },
  {
   "cell_type": "markdown",
   "metadata": {
    "slideshow": {
     "slide_type": "slide"
    }
   },
   "source": [
    "Now we can pump this in to get the predictions:"
   ]
  },
  {
   "cell_type": "code",
   "execution_count": 53,
   "metadata": {
    "cell_style": "split",
    "slideshow": {
     "slide_type": "fragment"
    }
   },
   "outputs": [
    {
     "data": {
      "text/plain": [
       "array([0, 0, 1, 1, 0, 0, 0, 0, 1, 0, 1, 0, 0, 1, 1, 1, 0, 0, 0, 1, 1, 0,\n",
       "       0, 1])"
      ]
     },
     "execution_count": 53,
     "metadata": {},
     "output_type": "execute_result"
    }
   ],
   "source": [
    "y_pred = logreg_clf.predict(X_test_scaled)\n",
    "\n",
    "y_pred"
   ]
  },
  {
   "cell_type": "code",
   "execution_count": 54,
   "metadata": {
    "cell_style": "split",
    "slideshow": {
     "slide_type": "fragment"
    }
   },
   "outputs": [
    {
     "data": {
      "text/plain": [
       "array([[0.62358325, 0.37641675],\n",
       "       [0.90706959, 0.09293041],\n",
       "       [0.06180864, 0.93819136],\n",
       "       [0.19309364, 0.80690636],\n",
       "       [0.94898666, 0.05101334],\n",
       "       [0.95625061, 0.04374939],\n",
       "       [0.94059156, 0.05940844],\n",
       "       [0.99749453, 0.00250547],\n",
       "       [0.00261309, 0.99738691],\n",
       "       [0.99654441, 0.00345559],\n",
       "       [0.01781412, 0.98218588],\n",
       "       [0.5454531 , 0.4545469 ],\n",
       "       [0.98290878, 0.01709122],\n",
       "       [0.38636364, 0.61363636],\n",
       "       [0.01781412, 0.98218588],\n",
       "       [0.11155335, 0.88844665],\n",
       "       [0.91979781, 0.08020219],\n",
       "       [0.97655747, 0.02344253],\n",
       "       [0.85749813, 0.14250187],\n",
       "       [0.00189417, 0.99810583],\n",
       "       [0.00684616, 0.99315384],\n",
       "       [0.72878953, 0.27121047],\n",
       "       [0.89255734, 0.10744266],\n",
       "       [0.11155335, 0.88844665]])"
      ]
     },
     "execution_count": 54,
     "metadata": {},
     "output_type": "execute_result"
    }
   ],
   "source": [
    "logreg_clf.predict_proba(X_test_scaled)"
   ]
  },
  {
   "cell_type": "markdown",
   "metadata": {
    "slideshow": {
     "slide_type": "slide"
    }
   },
   "source": [
    "Calculating the test score accuracy:"
   ]
  },
  {
   "cell_type": "code",
   "execution_count": 55,
   "metadata": {
    "slideshow": {
     "slide_type": "fragment"
    }
   },
   "outputs": [
    {
     "data": {
      "text/plain": [
       "0.8333333333333334"
      ]
     },
     "execution_count": 55,
     "metadata": {},
     "output_type": "execute_result"
    }
   ],
   "source": [
    "logreg_clf.score(X_test_scaled, y_test)"
   ]
  },
  {
   "cell_type": "markdown",
   "metadata": {
    "slideshow": {
     "slide_type": "fragment"
    }
   },
   "source": [
    "Also doing very well on test set."
   ]
  },
  {
   "cell_type": "markdown",
   "metadata": {
    "slideshow": {
     "slide_type": "slide"
    }
   },
   "source": [
    "Another useful way to check accuracy is:"
   ]
  },
  {
   "cell_type": "code",
   "execution_count": 56,
   "metadata": {
    "slideshow": {
     "slide_type": "fragment"
    }
   },
   "outputs": [],
   "source": [
    "from sklearn.metrics import accuracy_score"
   ]
  },
  {
   "cell_type": "code",
   "execution_count": 57,
   "metadata": {
    "slideshow": {
     "slide_type": "fragment"
    }
   },
   "outputs": [
    {
     "data": {
      "text/plain": [
       "0.8333333333333334"
      ]
     },
     "execution_count": 57,
     "metadata": {},
     "output_type": "execute_result"
    }
   ],
   "source": [
    "accuracy_score(y_test, y_pred)"
   ]
  },
  {
   "cell_type": "markdown",
   "metadata": {
    "slideshow": {
     "slide_type": "slide"
    }
   },
   "source": [
    "In this low dimension, can visualize the predictions on our test set:"
   ]
  },
  {
   "cell_type": "code",
   "execution_count": 58,
   "metadata": {
    "cell_style": "split",
    "slideshow": {
     "slide_type": "fragment"
    }
   },
   "outputs": [
    {
     "name": "stdout",
     "output_type": "stream",
     "text": [
      "     body_mass  y_pred  y_true\n",
      "291     5000.0       0       1\n",
      "302     4725.0       0       0\n",
      "325     5500.0       1       1\n",
      "307     5300.0       1       1\n",
      "318     4625.0       0       0\n"
     ]
    }
   ],
   "source": [
    "# putting predictions into a dataframe\n",
    "pred_df = pd.DataFrame({'body_mass': X_test.flatten(), \n",
    "              'y_pred': y_pred.flatten(), \n",
    "                        'y_true': y_test})\n",
    "\n",
    "print(pred_df.head())"
   ]
  },
  {
   "cell_type": "code",
   "execution_count": 59,
   "metadata": {
    "cell_style": "split",
    "slideshow": {
     "slide_type": "fragment"
    }
   },
   "outputs": [
    {
     "data": {
      "image/png": "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\n",
      "text/plain": [
       "<Figure size 432x288 with 1 Axes>"
      ]
     },
     "metadata": {
      "needs_background": "light"
     },
     "output_type": "display_data"
    }
   ],
   "source": [
    "sns.scatterplot(x = 'body_mass',\n",
    "                y = 'y_true', hue = 'y_pred',\n",
    "                data = pred_df)\n",
    "plt.axvline(x_true_decision, c = 'blue', linewidth = 3, linestyle = '--', label = 'decision')\n",
    "plt.legend()\n",
    "plt.show()"
   ]
  },
  {
   "cell_type": "markdown",
   "metadata": {
    "slideshow": {
     "slide_type": "fragment"
    }
   },
   "source": [
    "Very good generalization on unseen data."
   ]
  },
  {
   "cell_type": "markdown",
   "metadata": {
    "slideshow": {
     "slide_type": "slide"
    }
   },
   "source": [
    "#### Logistic Regression in higher dimensions"
   ]
  },
  {
   "cell_type": "markdown",
   "metadata": {
    "cell_style": "center",
    "slideshow": {
     "slide_type": "subslide"
    }
   },
   "source": [
    "Decide between penguin species:\n",
    "- Gentoo\n",
    "- Adelie"
   ]
  },
  {
   "cell_type": "markdown",
   "metadata": {
    "slideshow": {
     "slide_type": "fragment"
    }
   },
   "source": [
    "based on bill length and body mass measurements"
   ]
  },
  {
   "cell_type": "markdown",
   "metadata": {
    "slideshow": {
     "slide_type": "slide"
    }
   },
   "source": [
    "Loading in the relevant data"
   ]
  },
  {
   "cell_type": "code",
   "execution_count": 60,
   "metadata": {
    "cell_style": "split",
    "scrolled": true,
    "slideshow": {
     "slide_type": "fragment"
    }
   },
   "outputs": [
    {
     "data": {
      "text/html": [
       "<div>\n",
       "<style scoped>\n",
       "    .dataframe tbody tr th:only-of-type {\n",
       "        vertical-align: middle;\n",
       "    }\n",
       "\n",
       "    .dataframe tbody tr th {\n",
       "        vertical-align: top;\n",
       "    }\n",
       "\n",
       "    .dataframe thead th {\n",
       "        text-align: right;\n",
       "    }\n",
       "</style>\n",
       "<table border=\"1\" class=\"dataframe\">\n",
       "  <thead>\n",
       "    <tr style=\"text-align: right;\">\n",
       "      <th></th>\n",
       "      <th>bill_length_mm</th>\n",
       "      <th>body_mass_g</th>\n",
       "      <th>species</th>\n",
       "    </tr>\n",
       "  </thead>\n",
       "  <tbody>\n",
       "    <tr>\n",
       "      <th>0</th>\n",
       "      <td>39.1</td>\n",
       "      <td>3750.0</td>\n",
       "      <td>Adelie</td>\n",
       "    </tr>\n",
       "    <tr>\n",
       "      <th>1</th>\n",
       "      <td>39.5</td>\n",
       "      <td>3800.0</td>\n",
       "      <td>Adelie</td>\n",
       "    </tr>\n",
       "    <tr>\n",
       "      <th>2</th>\n",
       "      <td>40.3</td>\n",
       "      <td>3250.0</td>\n",
       "      <td>Adelie</td>\n",
       "    </tr>\n",
       "    <tr>\n",
       "      <th>4</th>\n",
       "      <td>36.7</td>\n",
       "      <td>3450.0</td>\n",
       "      <td>Adelie</td>\n",
       "    </tr>\n",
       "    <tr>\n",
       "      <th>5</th>\n",
       "      <td>39.3</td>\n",
       "      <td>3650.0</td>\n",
       "      <td>Adelie</td>\n",
       "    </tr>\n",
       "  </tbody>\n",
       "</table>\n",
       "</div>"
      ],
      "text/plain": [
       "   bill_length_mm  body_mass_g species\n",
       "0            39.1       3750.0  Adelie\n",
       "1            39.5       3800.0  Adelie\n",
       "2            40.3       3250.0  Adelie\n",
       "4            36.7       3450.0  Adelie\n",
       "5            39.3       3650.0  Adelie"
      ]
     },
     "execution_count": 60,
     "metadata": {},
     "output_type": "execute_result"
    }
   ],
   "source": [
    "col_list = ['bill_length_mm', 'body_mass_g', 'species']\n",
    "reduced_pg_df = penguin_df[col_list]\n",
    "\n",
    "reduced_pg_df =\\\n",
    "reduced_pg_df[reduced_pg_df['species'] != 'Chinstrap']\n",
    "reduced_pg_df.head()"
   ]
  },
  {
   "cell_type": "code",
   "execution_count": 61,
   "metadata": {
    "cell_style": "split",
    "slideshow": {
     "slide_type": "fragment"
    }
   },
   "outputs": [
    {
     "name": "stdout",
     "output_type": "stream",
     "text": [
      "<class 'pandas.core.frame.DataFrame'>\n",
      "Int64Index: 265 entries, 0 to 343\n",
      "Data columns (total 3 columns):\n",
      " #   Column          Non-Null Count  Dtype  \n",
      "---  ------          --------------  -----  \n",
      " 0   bill_length_mm  265 non-null    float64\n",
      " 1   body_mass_g     265 non-null    float64\n",
      " 2   species         265 non-null    object \n",
      "dtypes: float64(2), object(1)\n",
      "memory usage: 8.3+ KB\n"
     ]
    }
   ],
   "source": [
    "reduced_pg_df.info()"
   ]
  },
  {
   "cell_type": "code",
   "execution_count": 62,
   "metadata": {
    "cell_style": "center",
    "slideshow": {
     "slide_type": "subslide"
    }
   },
   "outputs": [
    {
     "data": {
      "image/png": "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\n",
      "text/plain": [
       "<Figure size 432.125x360 with 6 Axes>"
      ]
     },
     "metadata": {
      "needs_background": "light"
     },
     "output_type": "display_data"
    }
   ],
   "source": [
    "sns.pairplot(reduced_pg_df, hue = 'species')\n",
    "plt.show()"
   ]
  },
  {
   "cell_type": "markdown",
   "metadata": {
    "slideshow": {
     "slide_type": "fragment"
    }
   },
   "source": [
    "Two species look like they can be separated:\n",
    "- by a line/plane in this feature space\n",
    "- *linear separability* of classes in feature space"
   ]
  },
  {
   "cell_type": "markdown",
   "metadata": {
    "slideshow": {
     "slide_type": "slide"
    }
   },
   "source": [
    "Logistic regression is a suitable model for these situations:\n",
    "- model class probabilities with sigmoid function"
   ]
  },
  {
   "cell_type": "markdown",
   "metadata": {
    "slideshow": {
     "slide_type": "fragment"
    }
   },
   "source": [
    "$$P(Y=1|x) = \\sigma(\\textbf{w}^T \\textbf{x} + b ) = \\sigma(z )$$\n",
    "$$ z = \\textbf{w}^T \\textbf{x} + b $$"
   ]
  },
  {
   "cell_type": "markdown",
   "metadata": {
    "cell_style": "split",
    "slideshow": {
     "slide_type": "fragment"
    }
   },
   "source": [
    "<center>$ \\textbf{w} = \\begin{pmatrix} w_{l} \\\\ w_{m} \\end{pmatrix} $ and where $ \\textbf{x} = \\begin{pmatrix}  l_{bill} \\\\ m \\end{pmatrix}$ </center>\n"
   ]
  },
  {
   "cell_type": "markdown",
   "metadata": {
    "cell_style": "split",
    "slideshow": {
     "slide_type": "-"
    }
   },
   "source": [
    "<center>and where $ b $ is bias.</center>"
   ]
  },
  {
   "cell_type": "markdown",
   "metadata": {
    "slideshow": {
     "slide_type": "subslide"
    }
   },
   "source": [
    "Linear function that generates decision boundary:\n",
    "$$z = w_l l_{bill}+ w_m m + b$$\n",
    "\n",
    "when $z = 0$"
   ]
  },
  {
   "cell_type": "markdown",
   "metadata": {
    "slideshow": {
     "slide_type": "subslide"
    }
   },
   "source": [
    "Generates a decision line in our 2D feature space: $$w_d d_{bill}+ w_m m + b = 0$$\n",
    "\n",
    "implies that:\n",
    "\n",
    "$$ m = \\frac{w_l}{- w_m}l_{bill} + \\frac{ b }{-w_m} $$\n",
    "\n",
    "which is a line. We'll see this in a moment."
   ]
  },
  {
   "cell_type": "markdown",
   "metadata": {
    "slideshow": {
     "slide_type": "slide"
    }
   },
   "source": [
    "First convert targets/labels (this can be done before the train test split...just relabeling):"
   ]
  },
  {
   "cell_type": "code",
   "execution_count": 89,
   "metadata": {
    "slideshow": {
     "slide_type": "fragment"
    }
   },
   "outputs": [
    {
     "data": {
      "text/plain": [
       "LabelEncoder()"
      ]
     },
     "execution_count": 89,
     "metadata": {},
     "output_type": "execute_result"
    }
   ],
   "source": [
    "lab_enc_peng= LabelEncoder()\n",
    "lab_enc_peng.fit(reduced_pg_df['species'])"
   ]
  },
  {
   "cell_type": "code",
   "execution_count": 90,
   "metadata": {
    "slideshow": {
     "slide_type": "fragment"
    }
   },
   "outputs": [],
   "source": [
    "X = reduced_pg_df.drop(columns = ['species'])\n",
    "y = lab_enc_peng.transform(reduced_pg_df['species']) # transformed to integer labels"
   ]
  },
  {
   "cell_type": "markdown",
   "metadata": {
    "slideshow": {
     "slide_type": "slide"
    }
   },
   "source": [
    "Check out the feature matrix and label encoding:"
   ]
  },
  {
   "cell_type": "code",
   "execution_count": 91,
   "metadata": {
    "cell_style": "split",
    "slideshow": {
     "slide_type": "fragment"
    }
   },
   "outputs": [
    {
     "data": {
      "text/html": [
       "<div>\n",
       "<style scoped>\n",
       "    .dataframe tbody tr th:only-of-type {\n",
       "        vertical-align: middle;\n",
       "    }\n",
       "\n",
       "    .dataframe tbody tr th {\n",
       "        vertical-align: top;\n",
       "    }\n",
       "\n",
       "    .dataframe thead th {\n",
       "        text-align: right;\n",
       "    }\n",
       "</style>\n",
       "<table border=\"1\" class=\"dataframe\">\n",
       "  <thead>\n",
       "    <tr style=\"text-align: right;\">\n",
       "      <th></th>\n",
       "      <th>bill_length_mm</th>\n",
       "      <th>body_mass_g</th>\n",
       "    </tr>\n",
       "  </thead>\n",
       "  <tbody>\n",
       "    <tr>\n",
       "      <th>0</th>\n",
       "      <td>39.1</td>\n",
       "      <td>3750.0</td>\n",
       "    </tr>\n",
       "    <tr>\n",
       "      <th>1</th>\n",
       "      <td>39.5</td>\n",
       "      <td>3800.0</td>\n",
       "    </tr>\n",
       "    <tr>\n",
       "      <th>2</th>\n",
       "      <td>40.3</td>\n",
       "      <td>3250.0</td>\n",
       "    </tr>\n",
       "    <tr>\n",
       "      <th>4</th>\n",
       "      <td>36.7</td>\n",
       "      <td>3450.0</td>\n",
       "    </tr>\n",
       "    <tr>\n",
       "      <th>5</th>\n",
       "      <td>39.3</td>\n",
       "      <td>3650.0</td>\n",
       "    </tr>\n",
       "  </tbody>\n",
       "</table>\n",
       "</div>"
      ],
      "text/plain": [
       "   bill_length_mm  body_mass_g\n",
       "0            39.1       3750.0\n",
       "1            39.5       3800.0\n",
       "2            40.3       3250.0\n",
       "4            36.7       3450.0\n",
       "5            39.3       3650.0"
      ]
     },
     "execution_count": 91,
     "metadata": {},
     "output_type": "execute_result"
    }
   ],
   "source": [
    "X.head()"
   ]
  },
  {
   "cell_type": "code",
   "execution_count": 92,
   "metadata": {
    "cell_style": "split",
    "scrolled": true,
    "slideshow": {
     "slide_type": "fragment"
    }
   },
   "outputs": [
    {
     "data": {
      "text/plain": [
       "array([0, 1])"
      ]
     },
     "execution_count": 92,
     "metadata": {},
     "output_type": "execute_result"
    }
   ],
   "source": [
    "np.unique(y)"
   ]
  },
  {
   "cell_type": "markdown",
   "metadata": {
    "slideshow": {
     "slide_type": "slide"
    }
   },
   "source": [
    "Now we can scale/center the feature matrix X for logistic regression.\n",
    "\n",
    "- apply the StandardScaler"
   ]
  },
  {
   "cell_type": "markdown",
   "metadata": {
    "slideshow": {
     "slide_type": "subslide"
    }
   },
   "source": [
    "##### Wrong! \n",
    "\n",
    "Train test split first or data leakage."
   ]
  },
  {
   "cell_type": "code",
   "execution_count": 93,
   "metadata": {
    "slideshow": {
     "slide_type": "fragment"
    }
   },
   "outputs": [],
   "source": [
    "# 70-30 train test split\n",
    "X_train, X_test, y_train, y_test = train_test_split(X, y, test_size = 0.3)"
   ]
  },
  {
   "cell_type": "markdown",
   "metadata": {
    "slideshow": {
     "slide_type": "slide"
    }
   },
   "source": [
    "Now we can fit the standard scaler to the train set.\n",
    "\n",
    "Transform the test set."
   ]
  },
  {
   "cell_type": "code",
   "execution_count": 94,
   "metadata": {
    "slideshow": {
     "slide_type": "-"
    }
   },
   "outputs": [],
   "source": [
    "ss_2D = StandardScaler()\n",
    "X_train_scaled = ss_2D.fit_transform(X_train)\n",
    "X_test_scaled = ss_2D.transform(X_test) "
   ]
  },
  {
   "cell_type": "markdown",
   "metadata": {
    "slideshow": {
     "slide_type": "slide"
    }
   },
   "source": [
    "Define/fit a logistic regression on the scaled train set:"
   ]
  },
  {
   "cell_type": "code",
   "execution_count": 95,
   "metadata": {
    "slideshow": {
     "slide_type": "-"
    }
   },
   "outputs": [
    {
     "data": {
      "text/plain": [
       "LogisticRegression()"
      ]
     },
     "execution_count": 95,
     "metadata": {},
     "output_type": "execute_result"
    }
   ],
   "source": [
    "logreg_clf2D = LogisticRegression()\n",
    "logreg_clf2D.fit(X_train_scaled, y_train)"
   ]
  },
  {
   "cell_type": "code",
   "execution_count": 96,
   "metadata": {
    "cell_style": "split",
    "slideshow": {
     "slide_type": "fragment"
    }
   },
   "outputs": [
    {
     "data": {
      "text/plain": [
       "array([[2.78295162, 2.33053085]])"
      ]
     },
     "execution_count": 96,
     "metadata": {},
     "output_type": "execute_result"
    }
   ],
   "source": [
    "logreg_clf2D.coef_"
   ]
  },
  {
   "cell_type": "code",
   "execution_count": 97,
   "metadata": {
    "cell_style": "split",
    "slideshow": {
     "slide_type": "-"
    }
   },
   "outputs": [
    {
     "data": {
      "text/plain": [
       "array([-0.58677808])"
      ]
     },
     "execution_count": 97,
     "metadata": {},
     "output_type": "execute_result"
    }
   ],
   "source": [
    "logreg_clf2D.intercept_"
   ]
  },
  {
   "cell_type": "markdown",
   "metadata": {
    "slideshow": {
     "slide_type": "-"
    }
   },
   "source": [
    "The coefficients are weight vector $\\textbf{w}$ and intercept is bias $b$"
   ]
  },
  {
   "cell_type": "markdown",
   "metadata": {
    "slideshow": {
     "slide_type": "slide"
    }
   },
   "source": [
    "How good is the fit to the train set?\n",
    "- use .score() method"
   ]
  },
  {
   "cell_type": "code",
   "execution_count": 98,
   "metadata": {
    "slideshow": {
     "slide_type": "fragment"
    }
   },
   "outputs": [
    {
     "data": {
      "text/plain": [
       "0.9621621621621622"
      ]
     },
     "execution_count": 98,
     "metadata": {},
     "output_type": "execute_result"
    }
   ],
   "source": [
    "logreg_clf2D.score(X_train_scaled, y_train)"
   ]
  },
  {
   "cell_type": "markdown",
   "metadata": {
    "slideshow": {
     "slide_type": "slide"
    }
   },
   "source": [
    "View the predictions of the model with the **train** set plotted"
   ]
  },
  {
   "cell_type": "code",
   "execution_count": 99,
   "metadata": {
    "slideshow": {
     "slide_type": "-"
    }
   },
   "outputs": [
    {
     "data": {
      "image/png": "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\n",
      "text/plain": [
       "<Figure size 432x288 with 1 Axes>"
      ]
     },
     "metadata": {
      "needs_background": "light"
     },
     "output_type": "display_data"
    }
   ],
   "source": [
    "X_2Dn = X_train_scaled # scaled features\n",
    "X_2D = X_train # features on original scale\n",
    "\n",
    "x_min, x_max = X_train_scaled[:, 0].min() - 1, X_train_scaled[:, 0].max() + 1\n",
    "y_min, y_max = X_train_scaled[:, 1].min() - 1, X_train_scaled[:, 1].max() + 1\n",
    "\n",
    "xx_n, yy_n = np.meshgrid(np.arange(x_min, x_max, 0.1), np.arange(y_min, y_max, 0.1))\n",
    "\n",
    "f, ax = plt.subplots()\n",
    "\n",
    "Z = logreg_clf2D.predict(np.c_[xx_n.ravel(), yy_n.ravel()])\n",
    "Z = Z.reshape(xx_n.shape)\n",
    "ax.contourf(xx_n, yy_n, Z, alpha=0.4)\n",
    "ax.scatter(X_2Dn[:, 0], X_2Dn[:, 1], c = y_train, s=30, edgecolor=\"k\")\n",
    "ax.set_xlabel('bill depth [mm]')\n",
    "ax.set_ylabel('body mass [g]')\n",
    "ax.set_title('Decision Boundary: Logistic Regression')\n",
    "\n",
    "plt.show()"
   ]
  },
  {
   "cell_type": "markdown",
   "metadata": {
    "slideshow": {
     "slide_type": "slide"
    }
   },
   "source": [
    "Predictions on the test set"
   ]
  },
  {
   "cell_type": "code",
   "execution_count": 100,
   "metadata": {
    "cell_style": "split",
    "slideshow": {
     "slide_type": "fragment"
    }
   },
   "outputs": [
    {
     "data": {
      "text/plain": [
       "array([1, 0, 0, 1, 0, 0, 1, 1, 1, 0, 0, 1, 1, 0, 1, 1, 0, 0, 0, 1, 1, 1,\n",
       "       0, 0, 0, 0, 0, 0, 0, 0, 1, 0, 1, 1, 0, 1, 0, 1, 1, 0, 1, 1, 0, 1,\n",
       "       0, 1, 0, 1, 1, 0, 1, 0, 0, 0, 1, 0, 1, 0, 1, 0, 0, 0, 0, 1, 0, 0,\n",
       "       1, 1, 0, 0, 1, 1, 0, 0, 0, 0, 0, 1, 1, 1])"
      ]
     },
     "execution_count": 100,
     "metadata": {},
     "output_type": "execute_result"
    }
   ],
   "source": [
    "y_pred_2D = logreg_clf2D.predict(X_test_scaled)\n",
    "y_pred_2D"
   ]
  },
  {
   "cell_type": "markdown",
   "metadata": {
    "cell_style": "split",
    "slideshow": {
     "slide_type": "fragment"
    }
   },
   "source": [
    "Evaluate classifier accuracy on test set:"
   ]
  },
  {
   "cell_type": "code",
   "execution_count": 101,
   "metadata": {
    "cell_style": "split",
    "slideshow": {
     "slide_type": "fragment"
    }
   },
   "outputs": [
    {
     "data": {
      "text/plain": [
       "0.9375"
      ]
     },
     "execution_count": 101,
     "metadata": {},
     "output_type": "execute_result"
    }
   ],
   "source": [
    "accuracy_score(y_test, y_pred_2D)"
   ]
  },
  {
   "cell_type": "markdown",
   "metadata": {},
   "source": [
    "Can also get the class probabilities"
   ]
  }
 ],
 "metadata": {
  "celltoolbar": "Slideshow",
  "hide_input": false,
  "kernelspec": {
   "display_name": "Python (knickinsix)",
   "language": "python",
   "name": "knickinsix"
  },
  "language_info": {
   "codemirror_mode": {
    "name": "ipython",
    "version": 3
   },
   "file_extension": ".py",
   "mimetype": "text/x-python",
   "name": "python",
   "nbconvert_exporter": "python",
   "pygments_lexer": "ipython3",
   "version": "3.11.3"
  },
  "latex_envs": {
   "LaTeX_envs_menu_present": true,
   "autoclose": false,
   "autocomplete": true,
   "bibliofile": "biblio.bib",
   "cite_by": "apalike",
   "current_citInitial": 1,
   "eqLabelWithNumbers": true,
   "eqNumInitial": 1,
   "hotkeys": {
    "equation": "Ctrl-E",
    "itemize": "Ctrl-I"
   },
   "labels_anchors": false,
   "latex_user_defs": false,
   "report_style_numbering": false,
   "user_envs_cfg": false
  },
  "nbTranslate": {
   "displayLangs": [
    "*"
   ],
   "hotkey": "alt-t",
   "langInMainMenu": true,
   "sourceLang": "en",
   "targetLang": "fr",
   "useGoogleTranslate": true
  },
  "toc": {
   "base_numbering": 1,
   "nav_menu": {},
   "number_sections": true,
   "sideBar": true,
   "skip_h1_title": false,
   "title_cell": "Table of Contents",
   "title_sidebar": "Contents",
   "toc_cell": true,
   "toc_position": {
    "height": "calc(100% - 180px)",
    "left": "10px",
    "top": "150px",
    "width": "288px"
   },
   "toc_section_display": true,
   "toc_window_display": false
  },
  "varInspector": {
   "cols": {
    "lenName": 16,
    "lenType": 16,
    "lenVar": 40
   },
   "kernels_config": {
    "python": {
     "delete_cmd_postfix": "",
     "delete_cmd_prefix": "del ",
     "library": "var_list.py",
     "varRefreshCmd": "print(var_dic_list())"
    },
    "r": {
     "delete_cmd_postfix": ") ",
     "delete_cmd_prefix": "rm(",
     "library": "var_list.r",
     "varRefreshCmd": "cat(var_dic_list()) "
    }
   },
   "types_to_exclude": [
    "module",
    "function",
    "builtin_function_or_method",
    "instance",
    "_Feature"
   ],
   "window_display": true
  }
 },
 "nbformat": 4,
 "nbformat_minor": 1
}
